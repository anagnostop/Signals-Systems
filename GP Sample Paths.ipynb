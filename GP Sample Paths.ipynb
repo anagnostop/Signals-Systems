{
 "cells": [
  {
   "cell_type": "markdown",
   "metadata": {},
   "source": [
    "# GP Sample Paths\n",
    "\n",
    "This Jupyter notebook includes demonstrations of various (real-valued) Gaussian Processes (GPs). In particular,\n",
    "\n",
    "* Section 1 demonstrates how to simulate White Gaussian Noise (WGN) and how it sounds.\n",
    "* Section 2 does the same things for Wiener Processes (Brownian Motion), which are non-stationary GPs.\n",
    "* Section 3 provides two methods, RARP and DARP, for sampling band-limited, stationary, zero-mean GPs.\n",
    "* Section 4 demonstrates how to simulate band-pass filtered (ans, as a special case, low-pass filtered) WGNs using the methods of the previous section and how they sound.\n",
    "* Section 5 does the same things for bandlimited, baseband, stationary Colored Gaussian Noise. \n",
    "\n",
    "Note that \"simulate a random process (RP)\", \"draw realizations (or sample paths) from an RP\" and \"sampling a RP\" are all semantically the same.\n",
    "\n",
    "\n",
    "To use this notebook, run all cells and hop from demo to demo.\n",
    "\n",
    "**Notes:**\n",
    " - Requires Python 3.x; tested on Python 3.7.6\n",
    " - Requires `numpy`, `matplotlib`, `ipywidgets`, `IPython.display`.\n",
    " - To install `ipywidgets`, use\n",
    "    - `conda install ipywidgets` or `conda install -c conda-forge ipywidgets`\n",
    " - or\n",
    "    - `pip install ipywidgets`\n",
    "    - `jupyter nbextension enable --py --sys-prefix widgetsnbextension`\n",
    "\n",
    "\n",
    "Authored by Georgios C. Anagnostopoulos \n",
    "ver. 1.0 (April 2020)"
   ]
  },
  {
   "cell_type": "code",
   "execution_count": 47,
   "metadata": {
    "jupyter": {
     "source_hidden": true
    }
   },
   "outputs": [],
   "source": [
    "import numpy as np\n",
    "import matplotlib.pyplot as plt\n",
    "%matplotlib inline\n",
    "\n",
    "from ipywidgets import interactive\n",
    "import ipywidgets as widgets\n",
    "from IPython.display import Audio, display\n",
    "\n",
    "import functools"
   ]
  },
  {
   "cell_type": "code",
   "execution_count": 48,
   "metadata": {
    "jupyter": {
     "source_hidden": true
    }
   },
   "outputs": [],
   "source": [
    "# Some global settings for figure sizes\n",
    "normalFigSize = (8, 6) # (width,height) in inches\n",
    "largeFigSize = (12, 9)\n",
    "xlargeFigSize = (18, 12)"
   ]
  },
  {
   "cell_type": "markdown",
   "metadata": {},
   "source": [
    "## 1. White Gaussian Noise\n",
    "\n",
    "_White Gaussian Noise_ (WGN) of intensity $\\sigma^2 > 0$ is a zero-mean, stationary Gaussian Process (GP) with time-averaged auto-correlation function\n",
    "\n",
    "\\begin{align*}\n",
    "    \\bar{R}_X(\\tau) \\equiv R_X(t+\\tau, t) = \\sigma^2 \\delta(\\tau)\n",
    "\\end{align*}\n",
    "\n",
    "and a power spectral density (PSD) of\n",
    "\n",
    "\\begin{align*}\n",
    "    S_X(j \\omega) = \\sigma^2\n",
    "\\end{align*}\n",
    "\n",
    "i.e., constant for all $\\omega$. Its 'whiteness' characterization stems from the fact that its power is distributed evenly over all frequencies in a fashion similar to white (colorless) light; no frequency (color) dominates the others in terms of power.\n",
    "\n",
    "Among all continuous-time Random Processes (RPs), it is probably the most straightforward to draw realizations from. Assume that $X$ is a WGN with constant PSD $\\sigma^2$ and we want to draw a realization $x$ from it with samples $x_k \\triangleq x(t_k)$ at times $\\left\\{ t_k \\right\\}_{k=0}^N$ for some $N \\geq 1$. It suffices to draw $N$ i.i.d samples $x_k$ from $\\mathcal{N}(0, \\sigma^2)$ and then graph them. That's what we'll do next.\n",
    "\n",
    "**Commnent:**\n",
    "\n",
    "* Wide-Sense Stationary (WSS) and Strict-Sense Stationarity are one and the same for GPs. Hence, we will be plainly characterize a GP as \"stationary\" or \"non-stationary\".  \n",
    "* As a reminder, for a WSS RP $X$, its time-averaged auto-correlation function $\\bar{R}_X(\\tau)$ coincides with their auto-correlation function $R_X(t + \\tau, t)$, which is independent of $t$, like the case above. "
   ]
  },
  {
   "cell_type": "markdown",
   "metadata": {},
   "source": [
    "### 1.1 WGN Simulation"
   ]
  },
  {
   "cell_type": "code",
   "execution_count": 49,
   "metadata": {
    "jupyter": {
     "source_hidden": true
    }
   },
   "outputs": [],
   "source": [
    "# Global variables & objects\n",
    "sigmaSquared_max = 2.0\n",
    "\n",
    "sigmaSquaredSlider = widgets.FloatSlider(\n",
    "    value=0.5,\n",
    "    min=0.0,\n",
    "    max=sigmaSquared_max,\n",
    "    step=0.1,\n",
    "    description='$\\sigma^2$',\n",
    "    disabled=False,\n",
    "    continuous_update=False,\n",
    "    orientation='horizontal',\n",
    "    readout=True,\n",
    "    readout_format='.1f',\n",
    ")"
   ]
  },
  {
   "cell_type": "code",
   "execution_count": 50,
   "metadata": {
    "jupyter": {
     "source_hidden": true
    }
   },
   "outputs": [
    {
     "data": {
      "application/vnd.jupyter.widget-view+json": {
       "model_id": "d0665cd9d3504eccbba08a12a3494944",
       "version_major": 2,
       "version_minor": 0
      },
      "text/plain": [
       "interactive(children=(FloatSlider(value=0.5, continuous_update=False, description='$\\\\sigma^2$', max=2.0, read…"
      ]
     },
     "metadata": {},
     "output_type": "display_data"
    }
   ],
   "source": [
    "def plotSamplePaths_WGN(sigmaSquared = sigmaSquaredSlider, showGrid=True):\n",
    "    \n",
    "    t_min = 0.0 # sec\n",
    "    t_max = 100.0 # sec\n",
    "    Nt = 1000\n",
    "    t = np.linspace(t_min, t_max, Nt)\n",
    "    \n",
    "    x = np.random.normal(0.0, np.sqrt(sigmaSquared), Nt)\n",
    "\n",
    "    fig, ax = plt.subplots(1, 1, figsize=normalFigSize)\n",
    "    ax.plot(t, x, lw=1.0, color='blue')\n",
    "    ax.set_xlim(t_min, t_max)\n",
    "    maxDev = 1.96 * np.sqrt(sigmaSquared_max) # corresponds to 95% prediction interval \n",
    "    ax.set_ylim(-maxDev, maxDev) \n",
    "    ax.set_xlabel('$t$ (sec)',fontsize=18)\n",
    "    ax.set_ylabel('$x(t)$', fontsize=18)\n",
    "    ax.grid(showGrid)\n",
    "    \n",
    "v = interactive(plotSamplePaths_WGN, {'manual': True})\n",
    "display(v)"
   ]
  },
  {
   "cell_type": "markdown",
   "metadata": {},
   "source": [
    "**Instructions:**\n",
    "\n",
    "* To get a different sample path each time, click the `Run Interact` button.\n",
    "\n",
    "**Observations:**\n",
    "\n",
    "* Increasing $\\sigma^2$ amplifies the RP; i.e., it \"inreases its volume\"."
   ]
  },
  {
   "cell_type": "markdown",
   "metadata": {},
   "source": [
    "### 1.2 WGN Audio Sample\n",
    "\n",
    "Next, let's listen to it."
   ]
  },
  {
   "cell_type": "code",
   "execution_count": 51,
   "metadata": {
    "jupyter": {
     "source_hidden": true
    }
   },
   "outputs": [],
   "source": [
    "# Global variables\n",
    "durationSeconds = 3.0 # sec"
   ]
  },
  {
   "cell_type": "code",
   "execution_count": 52,
   "metadata": {
    "jupyter": {
     "source_hidden": true
    }
   },
   "outputs": [
    {
     "data": {
      "application/vnd.jupyter.widget-view+json": {
       "model_id": "6d3445761bde45f6b0908dc4ca8df6d5",
       "version_major": 2,
       "version_minor": 0
      },
      "text/plain": [
       "interactive(children=(FloatSlider(value=0.5, continuous_update=False, description='$\\\\sigma^2$', max=2.0, read…"
      ]
     },
     "metadata": {},
     "output_type": "display_data"
    }
   ],
   "source": [
    "# Also uses sigmaSquaredSlider\n",
    "def soundSamplePaths_WGN(sigmaSquared = sigmaSquaredSlider):    \n",
    "      \n",
    "    t_min = 0.0\n",
    "    t_max = durationSeconds\n",
    "    # Note to self: for some reason, signals that are sampled at less than 3KHz,\n",
    "    # will not play in the widget.\n",
    "    samplingRateHz = 44100 # Hz; audio CD quality sampling rate \n",
    "    samplingPeriodSec = 1.0 / samplingRateHz # sec\n",
    "    t = np.arange(t_min, t_max, samplingPeriodSec, dtype=float) \n",
    "\n",
    "    x = np.random.normal(0.0, np.sqrt(sigmaSquared), len(t))\n",
    "    \n",
    "    fig, ax = plt.subplots(1, 1, figsize=normalFigSize)\n",
    "    ax.plot(t, x, lw=1.0, color='blue')\n",
    "    ax.set_xlim(t_min, t_max)\n",
    "    #ax.set_ylim(-10.0, 10.0)\n",
    "    ax.set_xlabel('$t$',fontsize=18)\n",
    "    ax.set_ylabel('$X(t)$', fontsize=18)\n",
    "    #ax.grid(showGrid)\n",
    "    \n",
    "    display(Audio(data=x, rate=samplingRateHz))\n",
    "    return x\n",
    "\n",
    "v = interactive(soundSamplePaths_WGN, {'manual': True})\n",
    "display(v)"
   ]
  },
  {
   "cell_type": "markdown",
   "metadata": {},
   "source": [
    "**Instructions:**\n",
    "\n",
    "* To get a different sample path and audio each time, click the `Run Interact` button.\n",
    "* You can download the generated audio as a `WAV` file by clicking on the three vertical dots to the left of the audio widget and select `Download`. \n",
    "\n",
    "**Observations:**\n",
    "\n",
    "* WGN sounds like \"static\" noise.\n",
    "* Changing $\\sigma^2$ should change the volume of the noise, but we do not observe this, since the signal is likely first normalized in terms of loudness before it is played back to us. "
   ]
  },
  {
   "cell_type": "markdown",
   "metadata": {},
   "source": [
    "## 2. Wiener Process\n",
    "\n",
    "A _Wiener Process_ (WP) $B$ is a zero-mean, non-stationary GP with the following defining characteristics:\n",
    "\n",
    "1. $B(0) = 0$ with probability 1\n",
    "2. The WP's increments $B(t+\\tau) - B(t)$ for $\\tau > 0$ are $\\mathcal{N}(0, \\sigma^2 \\tau)$-distributed for some parameter $\\sigma^2>0$. When $\\sigma^2=1$, the RP is called a _stamdard_ WP.\n",
    "3. The WP has independent increments over non-oberlapping intervals. For example, if $t_1 < t_2 < t_3 < t_4$, then the RVs $B(t_2) - B(t_1)$ and $B(t_4) - B(t_3)$ are independent. Such increments are jointly normal.\n",
    "4. $B$ has continuous paths with probability 1 (i.e., almost surely). \n",
    "\n",
    "A WP is also referred to as a _Brownian motion_ in honor of the botanist Robert Brown, who observed in 1827 the motion of pollen in water. Turns out that the motion of this pollen can be modelled well by a two-dimensional WP. It was Norbert Wiener (whom the process took its name after), who showed in 1923 that WPs have MS-continuous paths, but are nowhere MS-differentiable. Later on, in 1905, it was argued by none other than Einstein that this Brownian motion was the first physical evidence of the existence of atoms and molecules, which until then were by large only theoretical constructs.\n",
    "\n",
    "WPs have too many interesting properties to be covered in brief, one of the most elegant being its self-similarity property. Here, we are going only to consider a WP's (time-averaged) auto-correlation, the resulting PSD and its simulation.\n",
    "\n",
    "Without going into details, we have that, for $t, \\tau \\geq 0$,\n",
    "\n",
    "\\begin{align*}\n",
    "    & \\mathbb{E} \\! \\left\\{ B(t) \\right\\} = 0 & t \\geq 0\n",
    "    \\\\\n",
    "    & R_B(t+\\tau, t) = \\sigma^2 \\min \\left\\{ t + \\tau, t \\right\\} & t+\\tau, t \\geq 0\n",
    "\\end{align*}\n",
    "\n",
    "i.e., $B$ is a zero-mean, non-stationary GP and $B(t)$ is $\\mathcal{N}(0, \\sigma^2 t)$-distributed. It can be shown that $\\frac{d B(t)}{dt} = W(t)$, where $W$ is a WGN with constant spectral density $\\sigma^2$. Given that the squared magnitude response of a differentiator is $|H(j \\omega)|^2 = |j \\omega|^2 = \\omega^2$, one can argue that the PSD of $B$ can be taken as\n",
    "\n",
    "\\begin{align*}\n",
    "    & S_W(j \\omega) = |H(j \\omega)|^2 S_B(j \\omega)  \\quad \\Rightarrow \\quad S_B(j \\omega) = \\frac{\\sigma^2}{\\omega^2}\n",
    "\\end{align*}\n",
    "\n",
    "The aforementioned PSD implies that $B$'s average power is infinite ($P_B = +\\infty$). The same result is obtained, when attempting to compute the time-averaged auto-correlation $\\bar{R}_X$ at lag 0. It turns out, that the computation of $\\bar{R}_X$ at other lags is also infinite.\n",
    "\n",
    "The simulation of such a WP can be accomplished by the process' 1st and 2nd defining properties. We choose a time resolution $\\Delta t > 0$ (the smaller, the more accurate the realization) and then compute the values of the process $B_k \\triangleq B(t_k)$ at time $t_k = k \\Delta t$ via the recursion\n",
    "\n",
    "\\begin{align*}\n",
    "    & B_o = 0 & \n",
    "    \\\\\n",
    "    & B_k = B_{k-1} + \\sqrt{\\sigma^2 \\Delta t} Z_k & k = 1, 2, \\ldots \n",
    "\\end{align*}\n",
    "\n",
    "where the $Z_k$'s are i.i.d. $\\mathcal{N}(0,1)$ samples. From this algorithm, one can see the connection of WPs to so-called _random walks_ : after each sample is drawn, the process has an equal probability to increase or decrease.\n"
   ]
  },
  {
   "cell_type": "markdown",
   "metadata": {},
   "source": [
    "### 2.1 WP Simulation"
   ]
  },
  {
   "cell_type": "code",
   "execution_count": 53,
   "metadata": {
    "jupyter": {
     "source_hidden": true
    }
   },
   "outputs": [
    {
     "data": {
      "application/vnd.jupyter.widget-view+json": {
       "model_id": "d282f1d043e84ace8850c0e2cc0603c2",
       "version_major": 2,
       "version_minor": 0
      },
      "text/plain": [
       "interactive(children=(FloatSlider(value=0.5, continuous_update=False, description='$\\\\sigma^2$', max=2.0, read…"
      ]
     },
     "metadata": {},
     "output_type": "display_data"
    }
   ],
   "source": [
    "# Uses sigmaSquaredSlider\n",
    "def plotSamplePaths_WP(sigmaSquared = sigmaSquaredSlider, showGrid=True):\n",
    "    \n",
    "    t_min = 0.0 # do not change\n",
    "    t_max = 100.0\n",
    "    Nt = 1000\n",
    "    t = np.linspace(t_min, t_max, Nt)\n",
    "    \n",
    "    x = np.empty(Nt)\n",
    "    multiplier = np.sqrt(sigmaSquared * (t[1] - t[0]))\n",
    "    x[0] = 0\n",
    "    for k in range(1, Nt):\n",
    "        x[k] = x[k-1] + multiplier * np.random.normal(0.0, 1.0)\n",
    "    \n",
    "    fig, ax = plt.subplots(1, 1, figsize=normalFigSize)\n",
    "    ax.plot(t, x, lw=1.0, color='blue')\n",
    "    ax.set_xlim(t_min, t_max)\n",
    "    maxDev = 1.96 * np.sqrt(sigmaSquared_max * t_max) # corresponds to 95% prediction interval of x(t_max)\n",
    "    ax.set_ylim(-maxDev, maxDev) \n",
    "    ax.set_xlabel('$t$ (sec)',fontsize=18)\n",
    "    ax.set_ylabel('$x(t)$', fontsize=18)\n",
    "    ax.grid(showGrid)\n",
    "    \n",
    "v = interactive(plotSamplePaths_WP, {'manual': True})\n",
    "display(v)"
   ]
  },
  {
   "cell_type": "markdown",
   "metadata": {},
   "source": [
    "**Instructions:**\n",
    "\n",
    "* To get a different sample path each time, click the `Run Interact` button.\n",
    "\n",
    "**Observation:**\n",
    "\n",
    "* Increasing $\\sigma^2$ allows the WP stray further away from 0 within the displayed time frame.\n",
    "\n",
    "\n",
    "**Comment:**\n",
    "\n",
    "* While sample paths of a WP may exhibit increasing or decreasing trends within an observational time window, its mean is zero for any time instance."
   ]
  },
  {
   "cell_type": "markdown",
   "metadata": {},
   "source": [
    "### 2.2 WP Audio Sample\n",
    "\n",
    "Let's take a listen to a WP sample path."
   ]
  },
  {
   "cell_type": "code",
   "execution_count": 54,
   "metadata": {
    "jupyter": {
     "source_hidden": true
    }
   },
   "outputs": [
    {
     "data": {
      "application/vnd.jupyter.widget-view+json": {
       "model_id": "dc9596130e90497ba2bbcd22ee8aaa0d",
       "version_major": 2,
       "version_minor": 0
      },
      "text/plain": [
       "interactive(children=(FloatSlider(value=0.5, continuous_update=False, description='$\\\\sigma^2$', max=2.0, read…"
      ]
     },
     "metadata": {},
     "output_type": "display_data"
    }
   ],
   "source": [
    "# Uses sigmaSquaredSlider\n",
    "def soundSamplePaths_WP(sigmaSquared = sigmaSquaredSlider):    \n",
    "      \n",
    "    t_min = 0.0\n",
    "    t_max = durationSeconds\n",
    "    # Note to self: for some reason, signals that are sampled at less than 3KHz,\n",
    "    # will not play in the widget.\n",
    "    samplingRateHz = 44100 # Hz; audio CD quality sampling rate \n",
    "    samplingPeriodSec = 1.0 / samplingRateHz # sec\n",
    "    t = np.arange(t_min, t_max, samplingPeriodSec, dtype=float) \n",
    "    Nt = len(t)\n",
    "    \n",
    "    x = np.empty(Nt)\n",
    "    multiplier = np.sqrt(sigmaSquared * samplingPeriodSec)\n",
    "    x[0] = 0\n",
    "    for k in range(1, Nt):\n",
    "        x[k] = x[k-1] + multiplier * np.random.normal(0.0, 1.0)\n",
    "    \n",
    "    fig, ax = plt.subplots(1, 1, figsize=normalFigSize)\n",
    "    ax.plot(t, x, lw=1.0, color='blue')\n",
    "    ax.set_xlim(t_min, t_max)\n",
    "    #ax.set_ylim(-10.0, 10.0)\n",
    "    ax.set_xlabel('$t$',fontsize=18)\n",
    "    ax.set_ylabel('$X(t)$', fontsize=18)\n",
    "    #ax.grid(showGrid)\n",
    "    \n",
    "    display(Audio(data=x, rate=samplingRateHz))\n",
    "    return x\n",
    "\n",
    "v = interactive(soundSamplePaths_WP, {'manual': True})\n",
    "display(v)"
   ]
  },
  {
   "cell_type": "markdown",
   "metadata": {},
   "source": [
    "**Instructions:**\n",
    "\n",
    "* To get a different sample path and audio each time, click the `Run Interact` button.\n",
    "* You can download the generated audio as a `WAV` file by clicking on the three vertical dots to the left of the audio widget and select `Download`. \n",
    "\n",
    "**Observations:**\n",
    "\n",
    "* A WP sounds softer than a WGN. This should not be a surprise, because one can think of the WP to be the output of an integrator, which is driven by WGN. The integrator is a LPF that cuts off very high frequencies. \n",
    "\n",
    "* Changing $\\sigma^2$ should change the volume of the noise, but we do not observe this, since the signal is likely first normalized in terms of loudness before it is played back to us. "
   ]
  },
  {
   "cell_type": "markdown",
   "metadata": {},
   "source": [
    "## 3. Methods for Simulating Band-limited, Stationary, Zero-Mean GPs\n",
    "\n",
    "Sampling realizations from GPs other than WGN is a bit more involved. In this section we'll discuss two methods that can be used to draw approximate sample paths of band-limited, stationary, zero-mean GPs. These two methods will be subsequently used to simulate such RPs."
   ]
  },
  {
   "cell_type": "markdown",
   "metadata": {},
   "source": [
    "### 3.1. RARP Simulation Method\n",
    "\n",
    "The method described below, named _Random-Amplitude Random-Phase_ (RARP) method, produces approximate sample paths (realizations) band-limited, stationary, zero-mean GPs of a given PSD $S_X$. \n",
    "\n",
    "In reality, these are sample paths of a band-limited, stationary, zero-mean GP, whose PSD is a piece-wise constant approximation to $S_X$. In particular, the given PSD $S_X$ is approximated in the interval $\\left[\\omega_k-\\frac{\\Delta\\omega}{2}, \\omega_k+\\frac{\\Delta\\omega}{2} \\right]$ by $S_X(j \\omega_k)$ for some spacing $\\Delta\\omega > 0$ rad/sec and regularly-spaced angular frequencies $\\omega_k$. Obviously, the smaller $\\Delta\\omega$ is, the better the approximation to the intended GP.\n",
    "\n",
    "For a stationary, zero-mean GP $X$ with PSD $S_X$, that is band-limited to $\\omega_B > 0$ rad/sec (i.e., $S_X(j \\omega)=0$ for $|\\omega| > \\omega_B$), the RARP method draws realizations from the RP $\\breve{X}$, which approximates $X$ and is given as\n",
    "\n",
    "\\begin{align*}\n",
    "    \\breve{X}(t) = \\sum_{k=0}^{N-1} \\left[ A_k \\cos(\\omega_k t) + B_k \\sin(\\omega_k t) \\right]\n",
    "\\end{align*}\n",
    "\n",
    "where $N \\triangleq \\frac{\\omega_B}{\\Delta\\omega}$. The random variables (RVs) $\\left\\{ A_k \\right\\}_{k=0}^{N-1}$ and $\\left\\{ B_k \\right\\}_{k=0}^{N-1}$ above are i.i.d. $\\mathcal{N}(0, \\frac{1}{\\pi} S_X(j \\omega_k) \\Delta\\omega)$ distributed and $\\omega_k \\triangleq k \\Delta\\omega$ for $k = 0, 1, \\ldots, N-1$. One can show that $\\breve{X}$ is indeed a GP, if the $A_k$'s and $B_k$'s are jointly Gaussianly-distributed.\n",
    "\n",
    "It is easy to verify that $\\mathbb{E} \\! \\left\\{ \\breve{X}(t) \\right\\} = 0$ (zero-mean). Due to the facts that $\\mathbb{E}\\!\\left\\{ A_k A_{\\ell} \\right\\} = \\frac{1}{\\pi} S_X(j \\omega_k) \\Delta\\omega \\left[ k = \\ell \\right]$ and $\\mathbb{E}\\!\\left\\{ A_k B_{\\ell} \\right\\} = 0$ for all $k, \\ell = 0, 1, \\ldots, N-1$, its auto-correlation $R_{\\breve{X}}$ is given as\n",
    "\n",
    "\\begin{align*}\n",
    "    R_{\\breve{X}}(t + \\tau, t) & \\triangleq \\mathbb{E}\\!\\left\\{ \\breve{X}(t + \\tau) \\breve{X}(t) \\right\\} = \\frac{\\Delta\\omega}{\\pi}  \\sum_{k=0}^{N-1} S_X(j \\omega_k) \\left[ \\cos(\\omega_k t) \\cos(\\omega_k (t + \\tau)) +  \\sin(\\omega_k t) \\sin(\\omega_k (t + \\tau)) \\right] = \n",
    "    \\\\ \n",
    "    & = \\frac{\\Delta\\omega}{\\pi}  \\sum_{k=0}^{N-1} S_X(j \\omega_k) \\cos(\\omega_k \\tau)\n",
    "\\end{align*}\n",
    "\n",
    "which reveals that $\\breve{X}$ is WSS (since it is also mean-stationary). Based on this, its time-averaged auto-correlation $\\bar{R}_{\\breve{X}}$ consides with its auto-correlation function $\\breve{R}_X$ and one can show that, as $\\Delta\\omega \\to 0$,\n",
    "\n",
    "\\begin{align*}\n",
    "    \\bar{R}_{\\breve{X}}(\\tau) = \\frac{1}{\\pi}  \\sum_{k=0}^{N-1} S_X(j \\omega_k) \\cos(\\omega_k \\tau) \\Delta\\omega \\overset{\\Delta\\omega \\to 0}{\\longrightarrow} \\frac{1}{\\pi} \\int_0^{\\omega_B} \\!\\! S_X(j \\omega) \\cos(\\omega \\tau) d\\omega \\equiv \\bar{R}_X(\\tau)\n",
    "\\end{align*}\n",
    "\n",
    "When graphing the sample paths of $\\breve{X}$, in order to obscure their periodicity and make them resemble more like the sample path of the GP being approximated (which is not periodic), one should choose a time interval (for graphing the path), whose width is less than $\\breve{X}(t)$'s period of $\\frac{2 \\pi}{\\Delta\\omega}$. Moreover, again for graphing, one should use a maximum spacing of $\\frac{\\pi}{\\omega_B}$ (the Nyquist rate for the sample paths) between time samples. "
   ]
  },
  {
   "cell_type": "code",
   "execution_count": 55,
   "metadata": {
    "jupyter": {
     "source_hidden": true
    }
   },
   "outputs": [],
   "source": [
    "# Implementation of the RAPR simulation method for bandlimited,\n",
    "# WSS, zero-mean GPs.\n",
    "#\n",
    "# t_min, t_max: time range in seconds for generating the sample path of the desired GP; must have t_min < t_max.\n",
    "# fs_Hz>0: (time-domain) sampling rate (frequency) in Hz. Normally, should be > 2 * f_max_Hz.\n",
    "# PSDfunc: a function that receives an omega array in rad/sec and returns the value of the desired GP's PSD.\n",
    "# f_max_Hz>0: bandwidth of provided PSD in Hz.\n",
    "def simRAPR(t_min, t_max, fs_Hz, PSDfunc, f_max_Hz):\n",
    "    omega_B = 2.0 * np.pi * f_max_Hz # bandwidth in rad/sec     \n",
    "    step = 1 / fs_Hz # sec\n",
    "    t = np.arange(t_min, t_max, step, dtype=float) \n",
    "\n",
    "    # To avoid displaying more than one period of the sample path in [t_min, t_max],\n",
    "    # one must choose N larger than frequency_2 * (t_max - t_min). \n",
    "    # Obviously, the larger N, the better the quality of the sample path.\n",
    "    # The default value is 1000.\n",
    "    N = int(max(999, f_max_Hz * (t_max - t_min))+1) \n",
    "    DeltaOmega = omega_B / N\n",
    "    k = np.arange(0, N)\n",
    "    omega = k * DeltaOmega    \n",
    "    \n",
    "    z_A = np.random.normal(0, 1, N) # sample a first set of i.i.d. standard Gaussian RVs\n",
    "    z_B = np.random.normal(0, 1, N) # sample a second set of i.i.d. standard Gaussian RVs\n",
    "    \n",
    "    PSD = PSDfunc(omega) # sample the desired PSD\n",
    "    \n",
    "    A = np.sqrt(PSD * DeltaOmega / np.pi) * z_A\n",
    "    B = np.sqrt(PSD * DeltaOmega / np.pi) * z_B\n",
    "    \n",
    "    omega_t = np.outer(t, omega)\n",
    "    x = np.dot(np.cos(omega_t), A) + np.dot(np.sin(omega_t), B)\n",
    "    return t, x"
   ]
  },
  {
   "cell_type": "markdown",
   "metadata": {},
   "source": [
    "### 3.2. DARP Simulation Method\n",
    "\n",
    "A second method, named _Detetministic-Amplitude Random-Phase_ (DARP) method, is an alternative to the RARP method we just saw. Once again, the desired PSD $S_X$ is approximated by a piece-wise constant PSD in the same manner that RARP uses.  \n",
    "\n",
    "In particular, the DARP method samples realizations from the RP $\\breve{X}$ given as\n",
    "\n",
    "\\begin{align*}\n",
    "    & \\breve{X}(t) = \\sum_{k=0}^{N-1} C_k \\cos(\\omega_k t + \\Phi_k)\n",
    "\\end{align*}\n",
    "\n",
    "where $N \\triangleq \\frac{\\omega_B}{\\Delta\\omega}$ and $C_k \\triangleq \\sqrt{ \\frac{2}{\\pi} S_X(j \\omega_k) \\Delta\\omega }$. The RVs $\\left\\{ \\Phi_k \\right\\}_{k=0}^{N-1}$ are i.i.d. $\\mathrm{Uniform}((-\\pi, \\pi])$ distributed and, as usual, $\\omega_k \\triangleq k \\Delta\\omega$ for $k = 0, 1, \\ldots, N-1$. \n",
    "\n",
    "Based on the identities \n",
    "\n",
    "\\begin{align*}\n",
    "    & \\mathbb{E} \\! \\left\\{ \\cos(\\theta + \\Phi_k) \\right\\} = 0\n",
    "    \\\\\n",
    "    & \\mathbb{E} \\! \\left\\{ \\cos(\\theta + \\Phi_k + \\Phi_{\\ell}) \\right\\} = 0\n",
    "    \\\\\n",
    "    & \\mathbb{E} \\! \\left\\{ \\cos(\\theta + \\Phi_k - \\Phi_{\\ell}) \\right\\} = \\cos(\\theta) [k = \\ell]\n",
    "\\end{align*}\n",
    "\n",
    "for the $\\Phi_k$'s as defined above and $\\theta$ some other angle, it is easy to verify that $\\mathbb{E} \\! \\left\\{ \\breve{X}(t) \\right\\} = 0$ (zero-mean) and that its auto-correlation $R_{\\breve{X}}$ is given as\n",
    "\n",
    "\\begin{align*}\n",
    "    R_{\\breve{X}}(t + \\tau, t) & = \\frac{1}{\\pi}  \\sum_{k=0}^{N-1} S_X(j \\omega_k) \\cos(\\omega_k \\tau) \\Delta\\omega \\overset{\\Delta\\omega \\to 0}{\\longrightarrow} \\frac{1}{\\pi} \\int_0^{\\omega_B} \\!\\! S_X(j \\omega) \\cos(\\omega \\tau) d\\omega \\equiv \\bar{R}_X(\\tau)\n",
    "\\end{align*}\n",
    "\n",
    "which reveals that $\\breve{X}$ is WSS (since it is also mean-stationary) and that it will converge to the desired auto-correlation. \n",
    "\n",
    "However, unlike the approximate RP $\\breve{X}$ used in RARP, this RP $\\breve{X}$ is not a GP for non-zero $\\Delta\\omega$. Each term $\\breve{X}_k(t) \\triangleq C_k \\cos(\\omega_k t + \\Phi_k)$ in $\\breve{X}$'s sum is independently $\\mathrm{Arcsine}(-C_k, C_k)$-distributed, i.e.\n",
    "\n",
    "\\begin{align*}\n",
    "    f_{\\breve{X}_k(t)}(x) = \\frac{1}{\\pi \\sqrt{C_k^2 - x^2}} [|x| < C_k]\n",
    "\\end{align*}\n",
    "\n",
    "When the number of terms $N$ in $\\breve{X}$'s expression approaches infinity, the Central Limit Theorem tells us that, for fixed $t$, $\\breve{X}(t)$ will become a Gaussian RV and $\\breve{X}$ will become a GP.    \n",
    "\n",
    "Finally, as was the case with the RP $\\breve{X}$ used in RARP, the sample paths of $\\breve{X}$ used in DARP are periodic with fundamental period $\\frac{2 \\pi}{\\Delta\\omega}$, while the GP to be approximated is not. Again, to obscure this fact, when graphing sample paths of $\\breve{X}$, one should choose a time interval (for graphing the path), whose width is less than $\\frac{2 \\pi}{\\Delta\\omega}$.\n",
    "\n",
    "All in all, when one compares the two methods, DARP utilizes half the RVs that RARP uses for the same resolution $\\Delta\\omega$. However, RARP's approximate RP $\\breve{X}$ is always a GP, while DARP's $\\breve{X}$ is only asymptotically so. In practice, both methods are used for their intended purpose."
   ]
  },
  {
   "cell_type": "code",
   "execution_count": 56,
   "metadata": {
    "jupyter": {
     "source_hidden": true
    }
   },
   "outputs": [],
   "source": [
    "# Implementation of the DAPR simulation method for bandlimited,\n",
    "# WSS, zero-mean GPs.\n",
    "#\n",
    "# t_min, t_max: time range in seconds for generating the sample path of the desired GP; must have t_min < t_max.\n",
    "# fs_Hz>0: (time-domain) sampling rate (frequency) in Hz. Normally, should be > 2 * f_max_Hz.\n",
    "# PSDfunc: a function that receives an omega array in rad/sec and returns the value of the desired GP's PSD.\n",
    "# f_max_Hz>0: bandwidth of desired PSD in Hz.\n",
    "def simDAPR(t_min, t_max, fs_Hz, PSDfunc, f_max_Hz):\n",
    "    omega_B = 2.0 * np.pi * f_max_Hz # bandwidth in rad/sec     \n",
    "    step = 1 / fs_Hz # sec\n",
    "    t = np.arange(t_min, t_max, step, dtype=float) \n",
    "\n",
    "    # To avoid displaying more than one period of the sample path in [t_min, t_max],\n",
    "    # one must choose N larger than frequency_2 * (t_max - t_min). \n",
    "    # Obviously, the larger N, the better the quality of the sample path.\n",
    "    # The default value is 1000.\n",
    "    N = int(max(999, f_max_Hz * (t_max - t_min))+1) \n",
    "    DeltaOmega = omega_B / N\n",
    "    k = np.arange(0, N)\n",
    "    omega = k * DeltaOmega    \n",
    "    \n",
    "    Phi = np.random.normal(-np.pi, np.pi, N) # sample a first set of i.i.d. standard Gaussian RVs\n",
    "    \n",
    "    PSD = PSDfunc(omega) # sample the desired PSD\n",
    "    \n",
    "    C = np.sqrt(2.0 * PSD * DeltaOmega / np.pi)\n",
    "    \n",
    "    omega_t_plus_phi = np.outer(t, omega) + np.tile(Phi, (len(t), 1))\n",
    "    x = np.dot(np.cos(omega_t_plus_phi), C)\n",
    "    return t, x"
   ]
  },
  {
   "cell_type": "markdown",
   "metadata": {},
   "source": [
    "## 4. Band-Pass Filtered GWN via Ideal Filters\n",
    "\n",
    "Let us assume that $X$ is a WGN process of intensity $\\sigma^2$ and that it acts as input to an ideal, real-valued band-pass filter (BPF) with cut-off angular frequencies $\\omega_2 > \\omega_1 \\geq 0$. The filter's impulse response is \n",
    "\n",
    "\\begin{align*}\n",
    "    & h(t) \\triangleq \\frac{\\omega_2}{\\pi} \\mathrm{sinc}(\\omega_2 t) - \\frac{\\omega_1}{\\pi} \\mathrm{sinc}(\\omega_1 t)\n",
    "\\end{align*}\n",
    "\n",
    "and has a frequency response of \n",
    "\n",
    "\\begin{align*}\n",
    "    & H(j \\omega) = [\\omega_1 \\leq |\\omega| \\leq \\omega_2 ]\n",
    "\\end{align*}\n",
    "\n",
    "Obviously, if $\\omega_1 = 0$, the filter simplifies to an ideal low-pass filter (LPF).\n",
    "\n",
    "Then, the filter's output $Y$ will also be a zero-mean, WSS GP (as a matter of fact, $Y$ and $X$ will be jointly WSS GPs) with PSD \n",
    "\n",
    "\\begin{align*}\n",
    "    S_Y(j \\omega) = \\left| H(j \\omega) \\right\\|^2 S_X(j \\omega) =  \\sigma^2 [\\omega_1 \\leq |\\omega| \\leq \\omega_2 ]\n",
    "\\end{align*}\n",
    "\n",
    "By virtue of the Wiener-Khinchin Theorem, the inverse CTFT of this PSD, yields the RP's time-averaged auto-correlation\n",
    "\n",
    "\\begin{align*}\n",
    "    \\bar{R}_Y(\\tau) \\equiv R_Y(\\tau) =  \\frac{\\sigma^2}{\\pi} \\left[ \\omega_2 \\mathrm{sinc}(\\omega_2 \\tau) - \\omega_1 \\mathrm{sinc}(\\omega_1 \\tau) \\right]\n",
    "\\end{align*}\n",
    "\n",
    "The average power of $Y$ is given as $P_Y = \\bar{R}_Y(0) = R_Y(0) = \\frac{\\sigma^2}{\\pi} \\left( \\omega_2 - \\omega_1 \\right)$."
   ]
  },
  {
   "cell_type": "markdown",
   "metadata": {},
   "source": [
    "### 4.1 BPF WGN Autocorrelation & PSD\n",
    "\n",
    "Further below, we graph the process' PSD and auto-correlation function."
   ]
  },
  {
   "cell_type": "code",
   "execution_count": 57,
   "metadata": {
    "jupyter": {
     "source_hidden": true
    }
   },
   "outputs": [],
   "source": [
    "# PSD of BP-filtered WGN\n",
    "# sigmaSquared>0: intensity of WGN\n",
    "# omega_1>=0: first cut-off angular frequency of BPF in rad/sec\n",
    "# omega_2>0: second cut-off angular frequency of BPF in rad/sec; must be > omega_1\n",
    "def PSD_BPF_WGN(omega, sigmaSquared, omega_1, omega_2):\n",
    "    absOmega = np.abs(omega) # PSD is an even function\n",
    "    return sigmaSquared * np.less_equal(omega_1, absOmega) * np.less_equal(absOmega, omega_2) \n",
    "\n",
    "# Auto-correlation function of BP-filtered WGN\n",
    "# Inverse CTFT of PSD_BPF_WGN\n",
    "# sigmaSquared>0: intensity of WGN\n",
    "# omega_1>=0: first cut-off angular frequency of BPF in rad/sec\n",
    "# omega_2>0: second cut-off angular frequency of BPF in rad/sec; must be > omega_1\n",
    "def ACF_BPF_WGN(tau, sigmaSquared, omega_1, omega_2):\n",
    "    # Note: numpy's sinc() is the normalized sinc(), so we need to divide its arguments by pi.\n",
    "    absTau = np.abs(tau) # time-averaged ACF is an even function \n",
    "    return sigmaSquared * (omega_2 * np.sinc(omega_2 * absTau / np.pi) - omega_1 * np.sinc(omega_1 * absTau / np.pi) ) / np.pi\n"
   ]
  },
  {
   "cell_type": "code",
   "execution_count": 58,
   "metadata": {
    "jupyter": {
     "source_hidden": true
    }
   },
   "outputs": [],
   "source": [
    "# Global variables/objects for this section\n",
    "frequency_1_min = 0.0 # Hz\n",
    "frequency_2_max = 2.0 # Hz\n",
    "\n",
    "f1f2PassbandSliderHz = widgets.FloatRangeSlider(\n",
    "    value=[frequency_1_min, frequency_2_max / 2.0],\n",
    "    min=frequency_1_min,\n",
    "    max=frequency_2_max,\n",
    "    step=0.1,\n",
    "    description='$f_1$-$f_2$ (Hz)',\n",
    "    disabled=False,\n",
    "    continuous_update=False,\n",
    "    orientation='horizontal',\n",
    "    readout=True,\n",
    "    readout_format='.1f',\n",
    ")"
   ]
  },
  {
   "cell_type": "code",
   "execution_count": 59,
   "metadata": {
    "jupyter": {
     "source_hidden": true
    }
   },
   "outputs": [
    {
     "data": {
      "application/vnd.jupyter.widget-view+json": {
       "model_id": "0dffd1b0490247df83367652bdc58f9a",
       "version_major": 2,
       "version_minor": 0
      },
      "text/plain": [
       "interactive(children=(FloatSlider(value=0.5, continuous_update=False, description='$\\\\sigma^2$', max=2.0, read…"
      ]
     },
     "metadata": {},
     "output_type": "display_data"
    }
   ],
   "source": [
    "# Also uses sigmaSquaredSlider\n",
    "def plot_PSD_ACF_BPF_WGN(sigmaSquared=sigmaSquaredSlider, freqRangeHz=f1f2PassbandSliderHz, showGrid=True):\n",
    "    \n",
    "    frequency_1 = freqRangeHz[0] # Hz\n",
    "    frequency_2 = freqRangeHz[1] # Hz\n",
    "        \n",
    "    omega_1 = 2 * np.pi * frequency_1 # rad/sec\n",
    "    omega_2 = 2 * np.pi * frequency_2 # rad/sec\n",
    "    \n",
    "    omega_2_max = 2 * np.pi * frequency_2_max # rad/sec\n",
    "    omega_min = - 1.5 * omega_2_max\n",
    "    omega_max = 1.5 * omega_2_max\n",
    "    Nomega = 1000\n",
    "    omega = np.linspace(omega_min, omega_max, Nomega, dtype=float) \n",
    "    f = omega / (2.0 * np.pi)\n",
    "    Sx = PSD_BPF_WGN(omega, sigmaSquared, omega_1, omega_2)\n",
    "\n",
    "    tau_min = -10.0\n",
    "    tau_max = 10.0\n",
    "    Ntau = 1000\n",
    "    tau = np.linspace(tau_min, tau_max, Ntau, dtype=float) \n",
    "    Rx = ACF_BPF_WGN(tau, sigmaSquared, omega_1, omega_2)\n",
    "    max_abs_Rx = sigmaSquared_max * omega_2_max / np.pi\n",
    "    \n",
    "    fig, ax = plt.subplots(1, 2, figsize=largeFigSize)\n",
    "    ax[0].plot(f, Sx, lw=1.0, color='blue')\n",
    "    ax[0].set_xlim(omega_min / (2.0 * np.pi), omega_max / (2.0 * np.pi))\n",
    "    ax[0].set_ylim(-1.25 * sigmaSquared_max, 1.25 * sigmaSquared_max)\n",
    "    ax[0].set_xlabel('$f$ (Hz)',fontsize=18)\n",
    "    ax[0].set_ylabel('$S_Y(j \\omega)$', fontsize=18)\n",
    "    ax[0].grid(showGrid)\n",
    "\n",
    "    ax[1].plot(tau, Rx, lw=1.0, color='blue')\n",
    "    ax[1].set_xlim(tau_min, tau_max)\n",
    "    ax[1].set_ylim(-1.1 * max_abs_Rx, 1.1 * max_abs_Rx)\n",
    "    ax[1].set_xlabel('tau (sec)',fontsize=18)\n",
    "    ax[1].set_ylabel('$R_Y$(tau)', fontsize=18)\n",
    "    ax[1].grid(showGrid)\n",
    "\n",
    "    \n",
    "v = interactive(plot_PSD_ACF_BPF_WGN)\n",
    "display(v)"
   ]
  },
  {
   "cell_type": "markdown",
   "metadata": {},
   "source": [
    "**Instructions:**\n",
    "\n",
    "* Use the interactive controls to see the changes in PSD and (time-averaged) ACF of the band-pass filtered WGN.\n",
    "* Use the passband slider to select the cut-off frequencies $f_1$ and $f_2$ (both measured in Hz) of the BPF. When, $f_1=0$, the filter simplifies to a LPF.\n",
    "\n",
    "**Observations:**\n",
    "\n",
    "* As we increase the width of the passband, $R_Y(0)$ increases. This makes sense, as increasing this width, increases the average power of the GP, which equals the integral of its PSD. This coincides with $R_Y(0)$. \n",
    "* The lower the cut-off frequency $f_2$ is, the larger the lag values $\\tau$, for which two values of $Y$, $Y(t + \\tau)$ and $Y(t)$, may be correlated.\n",
    "* For lags $\\tau_o$, for which $R_Y(\\tau_o) = 0$, the two GPs $Y(t + \\tau_o)$ and $Y(t)$ are uncorrelated and, hence, independent."
   ]
  },
  {
   "cell_type": "markdown",
   "metadata": {},
   "source": [
    "### 4.2 BPF WGN Simulation\n",
    "\n",
    "In the next demonstration, we will use both RARP and DARP methods to generate approximate sample paths of $Y$."
   ]
  },
  {
   "cell_type": "code",
   "execution_count": 60,
   "metadata": {
    "jupyter": {
     "source_hidden": true
    }
   },
   "outputs": [],
   "source": [
    "# Global variables & objects\n",
    "\n",
    "# Simulation method picker\n",
    "methodPicker = widgets.ToggleButtons(\n",
    "    options=['RARP', 'DARP'],\n",
    "    value = 'RARP',\n",
    "    description='Method:',\n",
    "    disabled=False,\n",
    "    button_style='',\n",
    "    tooltips=['Description of slow', 'Description of regular'],\n",
    ")"
   ]
  },
  {
   "cell_type": "code",
   "execution_count": 61,
   "metadata": {
    "jupyter": {
     "source_hidden": true
    }
   },
   "outputs": [
    {
     "data": {
      "application/vnd.jupyter.widget-view+json": {
       "model_id": "f7d2df2c13b54b06a1f0315da19255ec",
       "version_major": 2,
       "version_minor": 0
      },
      "text/plain": [
       "interactive(children=(FloatSlider(value=0.5, continuous_update=False, description='$\\\\sigma^2$', max=2.0, read…"
      ]
     },
     "metadata": {},
     "output_type": "display_data"
    }
   ],
   "source": [
    "# Also uses sigmaSquaredSlider and f1f2PassbandSliderHz\n",
    "def plotSamplePaths_BPF_WGN(sigmaSquared=sigmaSquaredSlider, freqRangeHz=f1f2PassbandSliderHz, method=methodPicker, showGrid=True):\n",
    "    \n",
    "    # Cut-off frequencies\n",
    "    frequency_1 = freqRangeHz[0] # Hz\n",
    "    frequency_2 = freqRangeHz[1] # Hz\n",
    "    fs = 2.0 * frequency_2_max # Nyquist rate for fastest signal\n",
    "      \n",
    "    t_min = 0.0\n",
    "    t_max = 100.0\n",
    "    myPSDfunc = functools.partial(PSD_BPF_WGN, sigmaSquared=sigmaSquared, omega_1 = 2 * np.pi * frequency_1, \n",
    "                                  omega_2 = 2 * np.pi * frequency_2)\n",
    "\n",
    "    if method == 'RARP':\n",
    "        t, x = simRAPR(t_min, t_max, fs, myPSDfunc, frequency_2_max)\n",
    "    elif method == 'DARP':\n",
    "        t, x = simDAPR(t_min, t_max, fs, myPSDfunc, frequency_2_max)\n",
    "\n",
    "    \n",
    "    fig, ax = plt.subplots(1, 1, figsize=normalFigSize)\n",
    "    ax.plot(t, x, lw=1.0, color='blue')\n",
    "    ax.set_xlim(t_min, t_max)\n",
    "    ax.set_ylim(-4.0, 4.0)\n",
    "    ax.set_xlabel('$t$ (sec)',fontsize=18)\n",
    "    ax.set_ylabel('$y(t)$', fontsize=18)\n",
    "    ax.grid(showGrid)\n",
    "    \n",
    "v = interactive(plotSamplePaths_BPF_WGN,  {'manual': True})\n",
    "display(v)"
   ]
  },
  {
   "cell_type": "markdown",
   "metadata": {},
   "source": [
    "**Instructions:**\n",
    "\n",
    "* To get an approximate sample path each time, click the `Run Interact` button.\n",
    "* Use the passband slider to select the cut-off frequencies $f_1$ and $f_2$ (both measured in Hz) of the BPF filter. When, $f_1=0$, the filter simplifies to a LPF.\n",
    "* Select between the `RARP` and `DARP` methods to sample a realization.\n",
    "\n",
    "**Observations:**\n",
    "\n",
    "* The time average of the sample paths is approximately $0$ (as expected).\n",
    "* Increasing the intensity $\\sigma^2$ increaces the magnitude of the sample paths' fluctuations.\n",
    "* For $f_1=0$ and $f_2=0.2$, the noise we are obtaining is narrow baseband. Its sample paths reflect that as they look like sums of a few slow-varying sinusoids.\n",
    "* For $f_1=0$ and as we increase $f_2$ to 2, the sample paths become \"choppier\" with wilder magintude fluctuations, as more noise frequencies are allowed to pass through the LPF.\n",
    "* For $f_1=0.9$ and $f_2=1.1$, i.e., when our filter is a proper BPF, the sample paths indeed look like a slow-varying signal modulating a higher-frequncy sinusoid.  "
   ]
  },
  {
   "cell_type": "markdown",
   "metadata": {},
   "source": [
    "### 4.3 BPF WGN Audio Sample\n",
    "\n",
    "The next demonstration produces an audio of the type of noises investigated in the previous demonstration."
   ]
  },
  {
   "cell_type": "code",
   "execution_count": 62,
   "metadata": {
    "jupyter": {
     "source_hidden": true
    }
   },
   "outputs": [],
   "source": [
    "# Global variables/objects\n",
    "frequency1KHz_min = 0.0 # KHz\n",
    "frequency2KHz_max = 0.5 # KHz \n",
    "\n",
    "f1f2PassbandSliderKHz = widgets.FloatRangeSlider(\n",
    "    value=[frequency1KHz_min, frequency2KHz_max],\n",
    "    min=frequency1KHz_min,\n",
    "    max=frequency2KHz_max,\n",
    "    step=0.01,\n",
    "    description='$f_1$-$f_2$ (KHz)',\n",
    "    disabled=False,\n",
    "    continuous_update=False,\n",
    "    orientation='horizontal',\n",
    "    readout=True,\n",
    "    readout_format='.2f',\n",
    ")"
   ]
  },
  {
   "cell_type": "code",
   "execution_count": 63,
   "metadata": {
    "jupyter": {
     "source_hidden": true
    }
   },
   "outputs": [
    {
     "data": {
      "application/vnd.jupyter.widget-view+json": {
       "model_id": "091b8f35e9e743ab89717a36c9d3bbc7",
       "version_major": 2,
       "version_minor": 0
      },
      "text/plain": [
       "interactive(children=(FloatRangeSlider(value=(0.0, 0.5), continuous_update=False, description='$f_1$-$f_2$ (KH…"
      ]
     },
     "metadata": {},
     "output_type": "display_data"
    }
   ],
   "source": [
    "# Also uses durationSeconds declared earlier.\n",
    "def soundSamplePaths_BPF_WGN(freqRangeKHz = f1f2PassbandSliderKHz):    \n",
    "    f_2_max = 1000.0 * frequency2KHz_max # Hz\n",
    "            \n",
    "    omega_1 = 2 * np.pi * 1000.0 * freqRangeKHz[0] # rad/sec\n",
    "    omega_2 = 2 * np.pi * 1000.0 * freqRangeKHz[1] # rad/sec\n",
    "            \n",
    "    t_min = 0.0\n",
    "    t_max = durationSeconds\n",
    "    # Note to self: for some reason, signals that are sampled at less than 3KHz,\n",
    "    # will not play in the widget.\n",
    "    fs = 6 * 1000 * frequency2KHz_max # Hz; sampling rate much above the Nyquist rate of the signal\n",
    "    myPSDfunc = functools.partial(PSD_BPF_WGN, sigmaSquared=1.0, omega_1 = omega_1, \n",
    "                                  omega_2 = omega_2)\n",
    "    t, x = simRAPR(t_min, t_max, fs, myPSDfunc, f_2_max)\n",
    "        \n",
    "    fig, ax = plt.subplots(1, 1, figsize=normalFigSize)\n",
    "    ax.plot(t, x, lw=1.0, color='blue')\n",
    "    ax.set_xlim(t_min, t_max)\n",
    "    #ax.set_ylim(-10.0, 10.0)\n",
    "    ax.set_xlabel('$t$',fontsize=18)\n",
    "    ax.set_ylabel('$X(t)$', fontsize=18)\n",
    "    #ax.grid(showGrid)\n",
    "    \n",
    "    display(Audio(data=x, rate=fs))\n",
    "    return x\n",
    "\n",
    "v = interactive(soundSamplePaths_BPF_WGN, {'manual': True})\n",
    "display(v)"
   ]
  },
  {
   "cell_type": "markdown",
   "metadata": {},
   "source": [
    "**Instructions:**\n",
    "\n",
    "* To get an approximate sample path and audio each time, click the `Run Interact` button.\n",
    "* Use the passband slider to select the cut-off frequencies $f_1$ and $f_2$ (both measured in KHz) of the BPF filter. When, $f_1=0$, the filter simplifies to a LPF.\n",
    "* You can download the generated audio as a `WAV` file by clicking on the three vertical dots to the left of the audio widget and select `Download`. \n",
    "\n",
    "**Observations:**\n",
    "\n",
    "* By choosing a wide passband, one can get a variety of \"outer-space\" or \"underwater\" (muffled) noise sounds.\n",
    "* As a matter of fact, choosing $f_1=0$ and $f_2=0.5$ KHz (the widest passband of this demonstration), the noise sounds similar to the underwater noise present in the [Bloop sound](https://en.wikipedia.org/wiki/File:Bloop_real.ogg) (here, sped up 16 times), although Bloop's backrground noise seems to be low-pass filtered at a higher cut-off frequency. Hence, at first impression, one could say that underwater noise picked up by hydrophones resembles low-pass filtered WGN. More on the Bloop signal can be found in the references below."
   ]
  },
  {
   "cell_type": "markdown",
   "metadata": {},
   "source": [
    "**References:**\n",
    "\n",
    "* [The Bloop (Wikipedia)](https://en.wikipedia.org/wiki/Bloop)\n",
    "* [The Bloop Heard Beneath The Sea | Sound Mysteries (Gizmodo on Youtube)](https://www.youtube.com/watch?v=3BWO3D8x3AQ)"
   ]
  },
  {
   "cell_type": "markdown",
   "metadata": {},
   "source": [
    "## 5. Bandlimited Baseband Colored Gaussian Noise\n",
    "\n",
    "Any zero-mean, stationary GP with a non-flat spectrum (PSD) is refered to as a _Colored Gaussian Noise_ (CGN). \n",
    "\n",
    "Let's consider a stationary GP $X$ with the following PSD:   \n",
    "\n",
    "\\begin{align*}\n",
    "    & S_X(j \\omega) \\triangleq \\pi e^{-a |\\omega|} \\ [|\\omega| \\leq \\omega_B] & a > 0, \\omega_B > 0\n",
    "\\end{align*}\n",
    "\n",
    "We say that $X$ has a _truncated/bandlimited Laplacian_ spectrum. Using the inverse CTFT, we obtain its time-averaged auto-correlation $\\bar{R}_X$ and, hence, its auto-correlation $R_X$ (since $X$ is WSS, these two functions coincide) as\n",
    "\n",
    "\\begin{align*}\n",
    "    & R_X(\\tau) = \\frac{1}{\\tau^2 + a^2} \\left[ a + e^{-a \\omega_B} \\left(\\tau \\sin(\\omega_B \\tau) - a \\cos(\\omega_B \\tau) \\right) \\right]\n",
    "\\end{align*}\n",
    "\n",
    "Since $S_X$ does not contain any impulse at $\\omega = 0$, or, equivalently, since $\\lim\\limits_{|\\tau| \\to +\\infty} R_X(\\tau) = 0$, $X$ is a zero-mean RP. Hence, $X$ is a CGN with average power $P_X = \\bar{R}_X(0) = R_X(0) = \\frac{1}{a} (1 - e^{-a \\omega_B})$.\n"
   ]
  },
  {
   "cell_type": "markdown",
   "metadata": {},
   "source": [
    "### 5.1 Bandlimited Baseband CGN Autocorrelation & PSD\n",
    "\n",
    "Let's see how its PSD and auto-corerlation functions look like."
   ]
  },
  {
   "cell_type": "code",
   "execution_count": 64,
   "metadata": {
    "jupyter": {
     "source_hidden": true
    }
   },
   "outputs": [],
   "source": [
    "# Badnlimited double-exponential PSD of CGN\n",
    "# alpha>0: exponent parameter used in the PSD \n",
    "# omega_B>0: cut-off angular frequency of PSD.\n",
    "def PSD_Bandlimited_CGN(omega, alpha, omega_B):\n",
    "    return np.pi * np.exp(- alpha * np.abs(omega)) * np.less_equal(np.abs(omega), omega_B).astype(float)\n",
    "\n",
    "# Auto-correlation function of the related CGN.\n",
    "# Inverse CTFT of PSD_Bandlimited_CGN\n",
    "# alpha>0: exponent parameter used in the PSD \n",
    "# omega_B>0: cut-off angular frequency of PSD.\n",
    "def ACF_Bandlimited_CGN(tau, alpha, omega_B):\n",
    "    tmp = alpha + np.exp(- alpha * omega_B) * ( tau * np.sin(omega_B * tau) - alpha * np.cos(omega_B * tau))\n",
    "    return tmp / (tau**2 + alpha**2)"
   ]
  },
  {
   "cell_type": "code",
   "execution_count": 65,
   "metadata": {
    "jupyter": {
     "source_hidden": true
    }
   },
   "outputs": [],
   "source": [
    "# Global variables & objects\n",
    "log10a_min = -5.0\n",
    "log10a_max = 1.0\n",
    "\n",
    "log10aSlider = widgets.FloatLogSlider(\n",
    "    value=0.1,\n",
    "    base=10,\n",
    "    min=log10a_min, # min exponent of base\n",
    "    max=log10a_max, # max exponent of base\n",
    "    step=0.5, # exponent step\n",
    "    description='$a$',\n",
    "#    readout_format='.6f',\n",
    ")\n",
    "\n",
    "fB_Hz_min = 0.1 # Hz\n",
    "fB_Hz_max = 2.0 # Hz\n",
    "\n",
    "fBSliderHz = widgets.FloatSlider(\n",
    "    value=fB_Hz_max,\n",
    "    min=fB_Hz_min,\n",
    "    max=fB_Hz_max,\n",
    "    step=0.1,\n",
    "    description='$f_B$ (Hz)',\n",
    "    disabled=False,\n",
    "    continuous_update=False,\n",
    "    orientation='horizontal',\n",
    "    readout=True,\n",
    "    readout_format='.1f',\n",
    ")"
   ]
  },
  {
   "cell_type": "code",
   "execution_count": 66,
   "metadata": {
    "jupyter": {
     "source_hidden": true
    }
   },
   "outputs": [
    {
     "data": {
      "application/vnd.jupyter.widget-view+json": {
       "model_id": "6b2722fd85fe4b179c415dcaae453f01",
       "version_major": 2,
       "version_minor": 0
      },
      "text/plain": [
       "interactive(children=(FloatLogSlider(value=0.1, description='$a$', max=1.0, min=-5.0, step=0.5), FloatSlider(v…"
      ]
     },
     "metadata": {},
     "output_type": "display_data"
    }
   ],
   "source": [
    "def plot_PSD_ACF_Bandlimited_CGN(a=log10aSlider, fB_Hz=fBSliderHz, showGrid=True):\n",
    "    \n",
    "    omega_B = 2 * np.pi * fB_Hz # rad/sec\n",
    "    omega_B_max = 2 * np.pi * fB_Hz_max # rad/sec \n",
    "      \n",
    "    omega_min = - 1.5 * omega_B_max\n",
    "    omega_max = 1.5 * omega_B_max\n",
    "    Nomega = 1000\n",
    "    omega = np.linspace(omega_min, omega_max, Nomega, dtype=float) \n",
    "    f = omega / (2.0 * np.pi)\n",
    "    Sx = PSD_Bandlimited_CGN(omega, a, omega_B)\n",
    "    PSD_max = np.pi\n",
    "\n",
    "    tau_min = -10.0\n",
    "    tau_max = 10.0\n",
    "    Ntau = 1000\n",
    "    tau = np.linspace(tau_min, tau_max, Ntau, dtype=float) \n",
    "    Rx = ACF_Bandlimited_CGN(tau, a, omega_B)\n",
    "    \n",
    "    fig, ax = plt.subplots(1, 2, figsize=largeFigSize)\n",
    "    ax[0].plot(f, Sx, lw=1.0, color='blue')\n",
    "    ax[0].set_xlim(omega_min / (2.0 * np.pi), omega_max / (2.0 * np.pi))\n",
    "    ax[0].set_ylim(-0.1 * PSD_max, 1.1 * PSD_max)\n",
    "    ax[0].set_xlabel('$f$ (Hz)',fontsize=18)\n",
    "    ax[0].set_ylabel('$S_X(j \\omega)$', fontsize=18)\n",
    "    ax[0].grid(showGrid)\n",
    "\n",
    "    ax[1].plot(tau, Rx, lw=1.0, color='blue')\n",
    "    ax[1].set_xlim(tau_min, tau_max)\n",
    "    ax[1].set_ylim(-4.0, 14.0)\n",
    "    ax[1].set_xlabel('tau (sec)',fontsize=18)\n",
    "    ax[1].set_ylabel('$R_X$(tau)', fontsize=18)\n",
    "    ax[1].grid(showGrid)\n",
    "\n",
    "    \n",
    "v = interactive(plot_PSD_ACF_Bandlimited_CGN)#, {'manual': True})\n",
    "display(v)"
   ]
  },
  {
   "cell_type": "markdown",
   "metadata": {},
   "source": [
    "**Instructions:**\n",
    "\n",
    "* Use the interactive controls to see the changes in PSD and (time-averaged) ACF of the bandlimited CGN.\n",
    "\n",
    "**Observations:**\n",
    "\n",
    "* Keeping fixed $f_B = 2$ Hz, as we decrease the value of $a$, the PSD $S_X$ becomes flatter in its passband and, hence, increasingly resembles the spectrum of low-pass filtered WGN. Hence, its auto-correlation resembles a $\\mathrm{sinc}(\\cdot)$ function.\n",
    "* On the other hand, as we increase $a$, its value affects the PSD's effective bandwidth, which becomes smaller. This results in a flatter auto-correlation function."
   ]
  },
  {
   "cell_type": "markdown",
   "metadata": {},
   "source": [
    "### 5.2 Bandlimited Baseband CGN Simulation\n",
    "\n",
    "Next, we'll draw realizations from this RP using the RARP method (instead of DARP, for no particular reason)."
   ]
  },
  {
   "cell_type": "code",
   "execution_count": 67,
   "metadata": {
    "jupyter": {
     "source_hidden": true
    }
   },
   "outputs": [
    {
     "data": {
      "application/vnd.jupyter.widget-view+json": {
       "model_id": "25cc2b22c02240ba847036d36a268d56",
       "version_major": 2,
       "version_minor": 0
      },
      "text/plain": [
       "interactive(children=(FloatLogSlider(value=0.1, description='$a$', max=1.0, min=-5.0, step=0.5), FloatSlider(v…"
      ]
     },
     "metadata": {},
     "output_type": "display_data"
    }
   ],
   "source": [
    "# Also uses log10aSliderHz, fBSliderHz and fB_Hz_max\n",
    "def plotSamplePaths_Bandlimited_CGN(a=log10aSlider, fB_Hz=fBSliderHz, showGrid=True):\n",
    "    \n",
    "    fs = 2.0 * fB_Hz_max # Nyquist rate for fastest signal\n",
    "    \n",
    "    t_min = 0.0\n",
    "    t_max = 100.0\n",
    "    myPSDfunc = functools.partial(PSD_Bandlimited_CGN, alpha = a, omega_B = 2 * np.pi * fB_Hz)\n",
    "\n",
    "    t, x = simRAPR(t_min, t_max, fs, myPSDfunc, fB_Hz_max) #frequency_2_max)\n",
    "    \n",
    "    fig, ax = plt.subplots(1, 1, figsize=normalFigSize)\n",
    "    ax.plot(t, x, lw=1.0, color='blue')\n",
    "    ax.set_xlim(t_min, t_max)\n",
    "    ax.set_ylim(-10.0, 10.0)\n",
    "    ax.set_xlabel('$t$ (sec)',fontsize=18)\n",
    "    ax.set_ylabel('$x(t)$', fontsize=18)\n",
    "    ax.grid(showGrid)\n",
    "    \n",
    "v = interactive(plotSamplePaths_Bandlimited_CGN,  {'manual': True})\n",
    "display(v)"
   ]
  },
  {
   "cell_type": "markdown",
   "metadata": {},
   "source": [
    "**Instructions:**\n",
    "\n",
    "* To get an approximate sample path each time, click the `Run Interact` button.\n",
    "* Use the frequency slider to select the cut-off frequency $f_B$ (measured in Hz) of the LPF filter. \n",
    "\n",
    "**Observations:**\n",
    "\n",
    "* For fixef $f_B = 2$ Hz, when $a$ is less than $0.1$ the process seems to maintain a certain average amplitude. Starting, though, with $a = 0.1$ and increasing it beyond this value decreases the realizations' amplitude.\n",
    "* For a value of $a=10$, the sample paths' appearance remains unaffected from changes in $f_B$. In essense, the large value of $a$ on its own makes the bandwidth of the process very narrow. We saw this phenomenon in the previous section, when inspecting the PSD of processes with such characteristics."
   ]
  },
  {
   "cell_type": "markdown",
   "metadata": {},
   "source": [
    "### 5.3 Bandlimited Baseband CGN Audio Sample\n",
    "\n",
    "Let's listen now how such processes sound."
   ]
  },
  {
   "cell_type": "code",
   "execution_count": 68,
   "metadata": {
    "jupyter": {
     "source_hidden": true
    }
   },
   "outputs": [],
   "source": [
    "# Global variables & objects\n",
    "log10a_min = -4.0\n",
    "log10a_max = -2.0\n",
    "\n",
    "log10aSlider2 = widgets.FloatLogSlider(\n",
    "    value=log10a_max,\n",
    "    base=10,\n",
    "    min=log10a_min, # min exponent of base\n",
    "    max=log10a_max, # max exponent of base\n",
    "    step=0.1, # exponent step\n",
    "    description='$a$',\n",
    "#    readout_format='.6f',\n",
    ")\n",
    "\n",
    "\n",
    "fB_KHz_min = 0.1 # KHz\n",
    "fB_KHz_max = 2.0 # KHz\n",
    "\n",
    "fBSliderKHz = widgets.FloatSlider(\n",
    "    value=fB_KHz_max,\n",
    "    min=fB_KHz_min,\n",
    "    max=fB_KHz_max,\n",
    "    step=0.1,\n",
    "    description='$f_B$ (KHz)',\n",
    "    disabled=False,\n",
    "    continuous_update=False,\n",
    "    orientation='horizontal',\n",
    "    readout=True,\n",
    "    readout_format='.1f',\n",
    ")"
   ]
  },
  {
   "cell_type": "code",
   "execution_count": 69,
   "metadata": {
    "jupyter": {
     "source_hidden": true
    }
   },
   "outputs": [
    {
     "data": {
      "application/vnd.jupyter.widget-view+json": {
       "model_id": "c2eb03611a4d43d0b1f534dc904adec4",
       "version_major": 2,
       "version_minor": 0
      },
      "text/plain": [
       "interactive(children=(FloatLogSlider(value=0.0001, description='$a$', max=-2.0, min=-4.0), FloatSlider(value=2…"
      ]
     },
     "metadata": {},
     "output_type": "display_data"
    }
   ],
   "source": [
    "# Also uses durationSeconds and log10aSlider declared earlier.\n",
    "def soundSamplePaths_Bandlimited_CGN(a=log10aSlider2, fB_KHz=fBSliderKHz):    \n",
    "\n",
    "    myPSDfunc = functools.partial(PSD_Bandlimited_CGN, alpha = a, omega_B = 2 * np.pi * 1000.0 * fB_KHz)\n",
    "\n",
    "    t_min = 0.0\n",
    "    t_max = durationSeconds\n",
    "    fs = 4 * 1000 * fB_KHz_max # Hz; sampling rate much above the Nyquist rate of the signal\n",
    "    t, x = simRAPR(t_min, t_max, fs, myPSDfunc, 1000 * fB_KHz_max)\n",
    "        \n",
    "    fig, ax = plt.subplots(1, 1, figsize=normalFigSize)\n",
    "    ax.plot(t, x, lw=1.0, color='blue')\n",
    "    ax.set_xlim(t_min, t_max)\n",
    "    #ax.set_ylim(-10.0, 10.0)\n",
    "    ax.set_xlabel('$t$',fontsize=18)\n",
    "    ax.set_ylabel('$X(t)$', fontsize=18)\n",
    "    #ax.grid(showGrid)\n",
    "    \n",
    "    display(Audio(data=x, rate=fs))\n",
    "    return x\n",
    "\n",
    "v = interactive(soundSamplePaths_Bandlimited_CGN, {'manual': True})\n",
    "display(v)"
   ]
  },
  {
   "cell_type": "markdown",
   "metadata": {},
   "source": [
    "**Instructions:**\n",
    "\n",
    "* To get an approximate sample path and audio each time, click the `Run Interact` button.\n",
    "* Use the passband slider to select the cut-off frequency $f_B$ (measured in KHz) of the LPF filter.\n",
    "* You can download the generated audio as a `WAV` file by clicking on the three vertical dots to the left of the audio widget and select `Download`. \n",
    "\n",
    "**Observations:**\n",
    "\n",
    "* For high values of $a$, we get a \"rumbling\" noise.\n",
    "* On the other hand, when $a$ is very small, the noise sounds like low-pass filtered WGN that we have encountered before. This is not a surprise, since, in this case, the PSD of the CGN has an almost flat passband and resembles that of low-pass filtered WGN. "
   ]
  }
 ],
 "metadata": {
  "kernelspec": {
   "display_name": "Python 3.7.6 64-bit ('base': conda)",
   "language": "python",
   "name": "python37664bitbaseconda1c0eb6d1d25d49b78d5380a4847164b3"
  },
  "language_info": {
   "codemirror_mode": {
    "name": "ipython",
    "version": 3
   },
   "file_extension": ".py",
   "mimetype": "text/x-python",
   "name": "python",
   "nbconvert_exporter": "python",
   "pygments_lexer": "ipython3",
   "version": "3.7.6"
  }
 },
 "nbformat": 4,
 "nbformat_minor": 4
}

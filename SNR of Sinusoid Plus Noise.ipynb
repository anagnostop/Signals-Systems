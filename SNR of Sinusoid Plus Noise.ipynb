{
 "cells": [
  {
   "cell_type": "markdown",
   "metadata": {},
   "source": [
    "# SNR of Sinusoid Plus Noise\n",
    "\n",
    "This Jupyter notebook consists of an audio demonstration in <a href=#section1>Section 1</a> of a pure tone (sinusoid) sounds in the presence of addititive low-pass filtered white Gaussian noise (WGN); it aims to show how the pure tone's audibility depends on the Signal-to-Noise Ratio (SNR). To use this notebook, run all cells and hop from demo to demo.\n",
    "\n",
    "**Notes:**\n",
    " - Requires Python 3.x; tested on Python 3.7.6\n",
    " - Requires `numpy`, `matplotlib`, `ipywidgets`, `IPython.display`.\n",
    " - It reuses the `PSD_BPF_WGN()` and `simRAPR()` functions from the `GP Sample Paths` Jupyter notebook. \n",
    " - To install `ipywidgets`, use\n",
    "    - `conda install ipywidgets` or `conda install -c conda-forge ipywidgets`\n",
    " - or\n",
    "    - `pip install ipywidgets`\n",
    "    - `jupyter nbextension enable --py --sys-prefix widgetsnbextension`\n",
    "\n",
    "\n",
    "Authored by Georgios C. Anagnostopoulos \n",
    "ver. 1.0 (April 2020)"
   ]
  },
  {
   "cell_type": "code",
   "execution_count": 1,
   "metadata": {},
   "outputs": [],
   "source": [
    "import numpy as np\n",
    "import matplotlib.pyplot as plt\n",
    "%matplotlib inline\n",
    "\n",
    "from ipywidgets import interactive\n",
    "import ipywidgets as widgets\n",
    "from IPython.display import Audio, display\n",
    "\n",
    "import functools"
   ]
  },
  {
   "cell_type": "code",
   "execution_count": 2,
   "metadata": {},
   "outputs": [],
   "source": [
    "# Some global settings for figure sizes\n",
    "normalFigSize = (8, 6) # (width,height) in inches\n",
    "largeFigSize = (12, 9)\n",
    "xlargeFigSize = (18, 12)"
   ]
  },
  {
   "cell_type": "markdown",
   "metadata": {},
   "source": [
    "## 0. Functions from `GP Sample Paths` Jupyter notebook"
   ]
  },
  {
   "cell_type": "code",
   "execution_count": 3,
   "metadata": {},
   "outputs": [],
   "source": [
    "# PSD of BP-filtered WGN\n",
    "# sigmaSquared>0: intensity of WGN\n",
    "# omega_1>=0: first cut-off angular frequency of BPF in rad/sec\n",
    "# omega_2>0: second cut-off angular frequency of BPF in rad/sec; must be > omega_1\n",
    "def PSD_BPF_WGN(omega, sigmaSquared, omega_1, omega_2):\n",
    "    absOmega = np.abs(omega) # PSD is an even function\n",
    "    return sigmaSquared * np.less_equal(omega_1, absOmega) * np.less_equal(absOmega, omega_2) \n"
   ]
  },
  {
   "cell_type": "code",
   "execution_count": 4,
   "metadata": {},
   "outputs": [],
   "source": [
    "# Implementation of the RAPR simulation method for bandlimited,\n",
    "# WSS, zero-mean GPs.\n",
    "#\n",
    "# t_min, t_max: time range in seconds for generating the sample path of the desired GP; must have t_min < t_max.\n",
    "# fs_Hz>0: (time-domain) sampling rate (frequency) in Hz. Normally, should be > 2 * f_max_Hz.\n",
    "# PSDfunc: a function that receives an omega array in rad/sec and returns the value of the desired GP's PSD.\n",
    "# f_max_Hz>0: bandwidth of provided PSD in Hz.\n",
    "def simRAPR(t_min, t_max, fs_Hz, PSDfunc, f_max_Hz):\n",
    "    omega_B = 2.0 * np.pi * f_max_Hz # bandwidth in rad/sec     \n",
    "    step = 1 / fs_Hz # sec\n",
    "    t = np.arange(t_min, t_max, step, dtype=float) \n",
    "\n",
    "    # To avoid displaying more than one period of the sample path in [t_min, t_max],\n",
    "    # one must choose N larger than frequency_2 * (t_max - t_min). \n",
    "    # Obviously, the larger N, the better the quality of the sample path.\n",
    "    # The default value is 1000.\n",
    "    N = int(max(999, f_max_Hz * (t_max - t_min))+1) \n",
    "    DeltaOmega = omega_B / N\n",
    "    k = np.arange(0, N)\n",
    "    omega = k * DeltaOmega    \n",
    "    \n",
    "    z_A = np.random.normal(0, 1, N) # sample a first set of i.i.d. standard Gaussian RVs\n",
    "    z_B = np.random.normal(0, 1, N) # sample a second set of i.i.d. standard Gaussian RVs\n",
    "    \n",
    "    PSD = PSDfunc(omega) # sample the desired PSD\n",
    "    \n",
    "    A = np.sqrt(PSD * DeltaOmega / np.pi) * z_A\n",
    "    B = np.sqrt(PSD * DeltaOmega / np.pi) * z_B\n",
    "    \n",
    "    omega_t = np.outer(t, omega)\n",
    "    x = np.dot(np.cos(omega_t), A) + np.dot(np.sin(omega_t), B)\n",
    "    return t, x"
   ]
  },
  {
   "cell_type": "markdown",
   "metadata": {},
   "source": [
    "<a name='section1' /></a>"
   ]
  },
  {
   "cell_type": "markdown",
   "metadata": {},
   "source": [
    "## 1. SNR of Pure Tone plus Low-Pass Filtered WGN\n",
    "\n",
    "In communication systems, the Signal-to-Noise Ratio (SNR) at the receiver largely determines the recovery quality of the transmitted message. \n",
    "\n",
    "Here we'll consider that the received signal (actually, it is a Random Process (RP)) $Y$ consists of a pure tone (a single sinusoid; the message) plus low-pass filtered White Gaussian Noise (the noise). \n",
    "\n",
    "The role of the message is played by the (deterministic) sinusoid\n",
    "\n",
    "\\begin{align*}\n",
    "    m(t) \\triangleq A \\cos(\\omega_o t)\n",
    "\\end{align*}\n",
    "\n",
    "for some $A, \\omega_o > 0$, whose avergae power is computed as $P_m = \\frac{A^2}{2}$. On the other hand, the additive noise is a zero-mean, wisde-sense stationary (WSS) Gaussian Process (GP) $N$ with Power Spectral Density (PSD) \n",
    "\n",
    "\\begin{align*}\n",
    "    S_N(j 2 \\pi f) \\triangleq \\sigma^2 \\ [|f| \\leq 2 \\Delta f_B]\n",
    "\\end{align*}\n",
    "\n",
    "for some intensity $\\sigma^2 > 0$ and some bandwidth $2 \\Delta f_B > 0$. The average power of $N$ is given as $P_N = 4 \\sigma^2 \\Delta f_B$. Then, the SNR is given as\n",
    "\n",
    "\\begin{align*}\n",
    "    \\mathrm{SNR} \\triangleq \\frac{P_m}{P_N} = \\frac{A^2}{8 \\sigma^2 \\Delta f_B}\n",
    "\\end{align*}\n",
    "\n",
    "or, in decibels, as\n",
    "\n",
    "\\begin{align*}\n",
    "    \\mathrm{SNR}_{dB} \\triangleq 10 \\log_{10}(SNR)\n",
    "\\end{align*}\n",
    "\n",
    "By simulating the RP $Y(t) \\triangleq m(t) + N(t)$, in the following audio demonstration we'll show the effect of SNR on the audibility of the tone in the presense of the aformentioned noise. Towards this, we'll select $\\Delta f_B = f_o \\triangleq  \\frac{2 \\pi}{\\omega_o}$ and .\n",
    "\n",
    "It turns out that $Y$ will be a GP with a periodic mean $m(t)$ (with fundamental period $T_o \\triangleq \\frac{2 \\pi}{\\omega_o}$) and a cyclo-stationary auto-correlation $R_Y(t + \\tau, t) = R_N(\\tau) + m(t + \\tau)m(t)$ with the same period. "
   ]
  },
  {
   "cell_type": "code",
   "execution_count": 5,
   "metadata": {},
   "outputs": [],
   "source": [
    "# Global variables/objects for this section\n",
    "SinusoidFrequencyHz=1000.0 # Hz\n",
    "samplingRateHz = 6000 # Hz #44100 # Hz; audio CD quality sampling rate \n",
    "durationSeconds = 3 # sec\n",
    "\n",
    "SNRdBSlider = widgets.FloatSlider(\n",
    "    value=60.0,\n",
    "    min=-10.0,\n",
    "    max=60.0,\n",
    "    step=5.0,\n",
    "    description='SNR (dB)',\n",
    "    disabled=False,\n",
    "    continuous_update=False,\n",
    "    orientation='horizontal',\n",
    "    readout=True,\n",
    "    readout_format='.1f',\n",
    ")"
   ]
  },
  {
   "cell_type": "code",
   "execution_count": 6,
   "metadata": {},
   "outputs": [
    {
     "data": {
      "application/vnd.jupyter.widget-view+json": {
       "model_id": "6baa392fdf31430cab19b32ba6c8ff38",
       "version_major": 2,
       "version_minor": 0
      },
      "text/plain": [
       "interactive(children=(FloatSlider(value=60.0, continuous_update=False, description='SNR (dB)', max=60.0, min=-…"
      ]
     },
     "metadata": {},
     "output_type": "display_data"
    }
   ],
   "source": [
    "def soundSinusoidalPlusNoise(SNRdB=SNRdBSlider):\n",
    "    \n",
    "    DfB = SinusoidFrequencyHz\n",
    "    sigmaSquared = 1e-10\n",
    "    SinusoidAmplitude = np.sqrt(8 * DfB * sigmaSquared) * 10.0**(SNRdB / 20.0)\n",
    "    \n",
    "    t = np.linspace(0.0, durationSeconds, samplingRateHz * durationSeconds)\n",
    "    m = SinusoidAmplitude * np.cos(2 * np.pi * SinusoidFrequencyHz * t)   \n",
    "\n",
    "    myPSDfunc = functools.partial(PSD_BPF_WGN, sigmaSquared=sigmaSquared, \n",
    "                                  omega_1 = 2.0 * np.pi * (SinusoidFrequencyHz - DfB / 2.0), \n",
    "                                  omega_2 = 2.0 * np.pi * (SinusoidFrequencyHz + DfB / 2.0))\n",
    "\n",
    "    t, n = simRAPR(0.0, durationSeconds, samplingRateHz, myPSDfunc, 2.0 * SinusoidFrequencyHz)\n",
    "    \n",
    "    y = m + n\n",
    "    \n",
    "    fig, ax = plt.subplots(1, 1, figsize=normalFigSize)\n",
    "    ax.plot(t, y, lw=1.0, color='blue')\n",
    "    ax.set_xlim(0.0, 0.05)\n",
    "    #ax.set_ylim(-10.0, 10.0)\n",
    "    ax.set_xlabel('$t (sec)$',fontsize=18)\n",
    "    ax.set_ylabel('$Y(t)$', fontsize=18)\n",
    "    #ax.grid(showGrid)    \n",
    "    \n",
    "    display(Audio(data=y, rate=samplingRateHz))\n",
    "    return y\n",
    "\n",
    "\n",
    "v = interactive(soundSinusoidalPlusNoise, {'manual': True})\n",
    "display(v)"
   ]
  },
  {
   "cell_type": "markdown",
   "metadata": {},
   "source": [
    "**Instructions:**\n",
    "\n",
    "* To get an approximate sample path and audio each time, click the `Run Interact` button.\n",
    "* You can download the generated audio as a `WAV` file by clicking on the three vertical dots to the left of the audio widget and select `Download`. \n",
    "\n",
    "**Observations:**\n",
    "\n",
    "Depending on the speakers one uses to listen to the sample path and on the listener's age among other things:\n",
    "\n",
    "* For an SNR of 60 dB, we virually hear a pure tone at 1Khz.\n",
    "* For an SNR of 50 dB, we start hearing a very faint hint of noise.\n",
    "* As we decrease the SNR, the noise becomes more prominent.\n",
    "* At an SNR of 5 dB, we hear the tone and the noise at roughly the same apparent loudness.\n",
    "* At an SNR of -5 dB, we may hear the tone, but only faintly so.\n",
    "* At an SNR of -10 dB, we do not hear a tone any more.\n"
   ]
  }
 ],
 "metadata": {
  "kernelspec": {
   "display_name": "Python 3.7.6 64-bit ('base': conda)",
   "language": "python",
   "name": "python37664bitbaseconda1c0eb6d1d25d49b78d5380a4847164b3"
  },
  "language_info": {
   "codemirror_mode": {
    "name": "ipython",
    "version": 3
   },
   "file_extension": ".py",
   "mimetype": "text/x-python",
   "name": "python",
   "nbconvert_exporter": "python",
   "pygments_lexer": "ipython3",
   "version": "3.7.6"
  }
 },
 "nbformat": 4,
 "nbformat_minor": 4
}

{
 "cells": [
  {
   "cell_type": "markdown",
   "metadata": {},
   "source": [
    "# Real- and Complex-Valued Sinusoids and Exponential Signals\n",
    "\n",
    "This Jupyter notebook focuses on real- and complex-valued sinusoidal and exponential signals. These families of signals play an important role in _Signals & Systems_: they surface up as solutions to ordinary linear differntial equations with constant coefficients, which govern the behavior of Linear Time-Invariant (LTI) systems, which, in turn, is the sole focus of _Signals & Systems_. The overall goal of this notebook is to provide \"mental pictures\" of such signals and enhance one's intuition about them. The demonstrations in here include graphing members of these families and attempts to represent them as sounds. To use this notebook, run all cells and hop from demo to demo.\n",
    "\n",
    "\n",
    "**Notes:**\n",
    " - Requires Python 3.x; tested on Python 3.6.3\n",
    " - Requires `numpy`, `matplotlib`, `ipywidgets`, `mpl_toolkits`.\n",
    " - To install `ipywidgets`, use\n",
    "    - `conda install ipywidgets` or `conda install -c conda-forge ipywidgets`\n",
    " - or\n",
    "    - `pip install ipywidgets`\n",
    "    - `jupyter nbextension enable --py --sys-prefix widgetsnbextension`\n",
    "\n",
    "\n",
    "Authored by Georgios C. Anagnostopoulos \n",
    "ver. 1.0 (August 2019)"
   ]
  },
  {
   "cell_type": "code",
   "execution_count": 1,
   "metadata": {},
   "outputs": [],
   "source": [
    "import numpy as np\n",
    "import matplotlib.pyplot as plt\n",
    "%matplotlib inline\n",
    "\n",
    "from ipywidgets import interactive\n",
    "import ipywidgets as widgets\n",
    "from IPython.display import Audio, display"
   ]
  },
  {
   "cell_type": "code",
   "execution_count": 2,
   "metadata": {},
   "outputs": [],
   "source": [
    "# Some global settings for figure sizes\n",
    "normalFigSize = (8, 6) # (width,height) in inches\n",
    "largeFigSize = (12, 9)\n",
    "xlargeFigSize = (18, 12)"
   ]
  },
  {
   "cell_type": "markdown",
   "metadata": {},
   "source": [
    "## 1. Sinusoids\n",
    "\n",
    "The general form of a _sinusoid_ (short for \"sinusoidal signal\") is given as\n",
    "\n",
    "\\begin{align*}\n",
    "    x(t) = A \\ \\mathrm{trig}(\\omega t + \\phi)\n",
    "\\end{align*}\n",
    "\n",
    "where $\\mathrm{trig}$ can be either $\\sin$ or $\\cos$, $A \\in \\mathbb{R}$ is referred to as its _amplitude_, $\\omega  \\in \\mathbb{R}$ is its _angular frequency_ (measured in radians per time unit) and $\\phi  \\in \\mathbb{R}$ is its _phase shift_ (measured in radians). Its _frequency_ $f$ is given as $f = \\frac{\\omega}{2 \\pi}$ and is measured in periods/cycles (dimensionless) per unit of time; when time is measured in seconds, then $f$ is measured in Hertz (Hz). Furthermore, its period $T$ is given as $T = \\frac{1}{f} = \\frac{2 \\pi}{\\omega}$ and is measured in time units.\n",
    "\n",
    "Note that, given a sinusoid, we can always express it in its _standard cosine form_ using $\\sin$/$\\cos$ properties:\n",
    "\n",
    "\\begin{align*}\n",
    "    x(t) = A \\cos(\\omega t + \\phi)\n",
    "\\end{align*}\n",
    "\n",
    "such that $A \\geq 0$, $\\omega \\geq 0$ and $\\phi \\in (-\\pi, \\pi]$. In that case, we refer to $A$ as the sinusoidal's _magnitude_ (instead of _amplitude_) to emphasize the fact that it is non-negative.\n",
    "\n",
    "It is not difficult to see that sinusoids like the one on the first expression are bounded signals in $[-|A|, |A|]$.\n"
   ]
  },
  {
   "cell_type": "markdown",
   "metadata": {},
   "source": [
    "### 1.1 Interactive Graph of a Sinusoid "
   ]
  },
  {
   "cell_type": "code",
   "execution_count": 3,
   "metadata": {
    "scrolled": false
   },
   "outputs": [
    {
     "data": {
      "application/vnd.jupyter.widget-view+json": {
       "model_id": "702c4a1d473d46c78f00fc72629eddc5",
       "version_major": 2,
       "version_minor": 0
      },
      "text/plain": [
       "interactive(children=(FloatSlider(value=1.0, description='amplitude', max=1.0, min=-1.0), FloatSlider(value=1.…"
      ]
     },
     "metadata": {},
     "output_type": "display_data"
    }
   ],
   "source": [
    "def plotSinusoid(amplitude=1.0, frequency=1.0, phaseShift=0.0, showGrid=True):\n",
    "    t = np.linspace(-1.0, 1.0, 1000)\n",
    "    fig, ax = plt.subplots(1, 1, figsize=normalFigSize)\n",
    "    ax.plot(t, amplitude * np.cos(2 * np.pi * t * frequency + phaseShift),\n",
    "            lw=1.0, color='blue')\n",
    "    ax.set_xlim(-1.0, 1.0)\n",
    "    ax.set_ylim(-1.0, 1.0)\n",
    "    ax.set_xlabel('$t$',fontsize=18)\n",
    "    ax.set_ylabel('$x(t)$', fontsize=18)\n",
    "    ax.grid(showGrid)\n",
    "    \n",
    "v = interactive(plotSinusoid, amplitude=(-1.0,1.0), frequency=(0.5,2.0), phaseShift=(-np.pi, np.pi))\n",
    "display(v)"
   ]
  },
  {
   "cell_type": "markdown",
   "metadata": {},
   "source": [
    "### 1.2 The Sound of a Sinusoid\n",
    "\n",
    "Sinusoids sound like \"pure tones\". The human auditory system can typically perceive such tones in the range of 20Hz to 20,000Hz (20KHz), depending on the tone's loudness. Nevertheless, its best performance occurs in the range of 1KHz to 5KHz; that's the frequency range of human speech. A few interesting facts: \n",
    "\n",
    "- A tone's _pitch_ is determined by the sinusoid's frequency $f$, or, equivalently, by its period $T$.\n",
    "- A tone's loudness (or intensity) is determined by the absolute value $|A|$ of the sinusoid's amplitude.\n",
    "- We cannot percieve differneces in constant (independent of time) phase shifts $\\phi$.\n",
    "- In the playback demonstration below, do not expect\n",
    "    - your speakerphone to be able to reproduce tones well (or, at all) in the aformentioned audible frequency range.\n",
    "    - to hear a louder sound by changing the sinusoid's amplitude, as your sound hardware typically normalizes it by default to $1$.\n",
    "- For the last two reasons, the demo below does not feature any amplitude (to affect the tone's volume) or phase shift sliders.\n",
    "    \n",
    "Some references you may want to look into are:\n",
    "- [Hearing Range (@ Wikipedia)](https://en.wikipedia.org/wiki/Hearing_range)\n",
    "- [Musical Note Frequency (@ Wikipedia)](https://en.wikipedia.org/wiki/Musical_note#Note_frequency_(hertz))\n",
    "\n",
    "In the next audio demo, we'll use higher sinusoidal frequencies, so we can actually hear them."
   ]
  },
  {
   "cell_type": "code",
   "execution_count": 4,
   "metadata": {},
   "outputs": [
    {
     "data": {
      "application/vnd.jupyter.widget-view+json": {
       "model_id": "2b2468266bbf4798a7ae586e20a69f7a",
       "version_major": 2,
       "version_minor": 0
      },
      "text/plain": [
       "interactive(children=(FloatSlider(value=1000.0, description='frequencyHz', max=20000.0, min=1000.0), Output())…"
      ]
     },
     "metadata": {},
     "output_type": "display_data"
    }
   ],
   "source": [
    "def soundSinusoidal(frequencyHz=1000.0):\n",
    "    durationSeconds = 3\n",
    "    samplingRateHz = 44100 # audio CD quality sampling rate \n",
    "    t = np.linspace(0.0, durationSeconds, samplingRateHz * durationSeconds)\n",
    "    x = np.cos(2 * np.pi * frequencyHz * t)\n",
    "    display(Audio(data=x, rate=samplingRateHz))\n",
    "    return x\n",
    "\n",
    "v = interactive(soundSinusoidal, frequencyHz=(1000.0,20000.0))\n",
    "display(v)"
   ]
  },
  {
   "cell_type": "markdown",
   "metadata": {},
   "source": [
    "**Comment(s):**\n",
    "- If $t=0$ seconds is the time that you click the playback button above, what you are really hearing is only a 3-second chunk of a sinusoid:\n",
    "\n",
    "  \\begin{align*}\n",
    "      x(t) = A \\cos(\\omega t) p(t; 0, 3)\n",
    "  \\end{align*}\n",
    "  where, if $t_1 < t_2$,\n",
    "  \\begin{align*}\n",
    "      p(t; t_1, t_2) \\triangleq\n",
    "      \\begin{cases}\n",
    "          1 & t \\in [t_1, t_2]\n",
    "          \\\\\n",
    "          0 & \\text{otherwise}\n",
    "      \\end{cases}\n",
    "  \\end{align*}\n",
    "  \n",
    "  is a _rectangular pulse_ between times $t_1$ and $t_2$."
   ]
  },
  {
   "cell_type": "markdown",
   "metadata": {},
   "source": [
    "### 1.3 Sums of Sinusoids\n",
    "\n",
    "Next, a demonstration of summing two sinusoidals is presented.\n",
    "\n",
    "Sums of two or more sinusoids are periodic signals only if the sinusoidal frequencies/preriods are a rational multiple of some common (fundamental) frequency/period; otherwise, they are not periodic. For example, if\n",
    "\n",
    "\\begin{align*}\n",
    "    & x_i(t) \\triangleq A_i \\cos(\\omega_i t + \\phi_i) & i=1,2\n",
    "    \\\\\n",
    "    & x(t) \\triangleq x_1(t) + x_2(t)\n",
    "\\end{align*}\n",
    "\n",
    "with $\\frac{\\omega_1}{\\omega_2} = \\sqrt{2} \\notin \\mathbb{Q}$, then their sum $x(t)$ is aperiodic. However, when graphing such a sum, the lack of periodicity is almost impossible to discern. \n",
    "\n",
    "A final fun fact is that a sum of sinusoids of the same frequency yields a sinusoid of the very same frequency. If $\\omega_1 = \\omega_2 = \\omega_o$, then, as defined above, the sum can be expressed as \n",
    "\n",
    "\\begin{align*}\n",
    "    & x(t) \\triangleq x_1(t) + x_2(t) = |z| \\cos(\\omega_o t + \\angle z)\n",
    "\\end{align*}\n",
    "\n",
    "where $z \\triangleq A_1 e^{j \\phi_1} + A_2 e^{j \\phi_2}$."
   ]
  },
  {
   "cell_type": "code",
   "execution_count": 5,
   "metadata": {},
   "outputs": [
    {
     "data": {
      "application/vnd.jupyter.widget-view+json": {
       "model_id": "9a1c41a12da047029d69f032549ced49",
       "version_major": 2,
       "version_minor": 0
      },
      "text/plain": [
       "interactive(children=(FloatSlider(value=1.0, description='amplitude1', max=1.0, min=-1.0), FloatSlider(value=1…"
      ]
     },
     "metadata": {},
     "output_type": "display_data"
    }
   ],
   "source": [
    "def plotSumOfSinusoids(amplitude1=1.0, frequency1=1.0, phaseShift1=0.0, \n",
    "                       amplitude2=1.0, frequency2=1.0, phaseShift2=0.0, showGrid=True):\n",
    "    t = np.linspace(-1.0, 1.0, 1000)\n",
    "    fig, ax = plt.subplots(1, 1, figsize=normalFigSize)\n",
    "    x1 = amplitude1 * np.cos(2 * np.pi * t * frequency1 + phaseShift1)\n",
    "    ax.plot(t, x1, lw=1.0, color='blue')\n",
    "    x2 = amplitude2 * np.cos(2 * np.pi * t * frequency2 + phaseShift2)\n",
    "    ax.plot(t, x2, lw=1.0, color='red')\n",
    "    x = x1 + x2\n",
    "    ax.plot(t, x, lw=3.0, color='green')\n",
    "    ax.set_xlim(-1.0, 1.0)\n",
    "    ax.set_ylim(-2.0, 2.0)\n",
    "    ax.set_xlabel('$t$',fontsize=18)\n",
    "    ax.set_ylabel('$x_1(t), x_2(t), x(t)$', fontsize=18)\n",
    "    ax.grid(showGrid)\n",
    "    \n",
    "v = interactive(plotSumOfSinusoids, amplitude1=(-1.0,1.0), frequency1=(0.0,2.0), phaseShift1=(-np.pi, np.pi),\n",
    "               amplitude2=(-1.0,1.0), frequency2=(0.0,2.0), phaseShift2=(-np.pi, np.pi))\n",
    "display(v)"
   ]
  },
  {
   "cell_type": "markdown",
   "metadata": {},
   "source": [
    "In the figure above, the sum of sinusoids $x$ is depicted in green, while the individual sinusoids are depicted in blue ($x_1$) and red ($x_2$)."
   ]
  },
  {
   "cell_type": "markdown",
   "metadata": {},
   "source": [
    "### 1.4 The Sound of A Sum of Sinusoids\n",
    "\n",
    "Now, let's investigate how a sum of two sinusoids might actually sound like. In general, we will be able to hear two distinct tones. \n",
    "\n",
    "However, an interesting acoustic phenomenon that can be observed is a _beat tone_, which is perceived, when $f_1$ and $f_2$ are sufficiently close to each other. In that case, our auditory system will hear a single tone, whose loudness changes periodically (with frequency $|f_1 - f_2|$; hence slowly) over time like a _tremolo_ effect.\n",
    "\n",
    "Reference that you may want to look into are\n",
    "- [Beat (acoustics) (@ Wikipedia)](https://en.wikipedia.org/wiki/Beat_(acoustics))\n",
    "- [How to calculate the perceived frequency of two sinusoidal waves added together?](https://math.stackexchange.com/questions/164369/how-to-calculate-the-perceived-frequency-of-two-sinusoidal-waves-added-together). It turns out that a sum of two sinusoids, even of different frequencies and amplitudes, can always be written as a product of a sinusoid and a periodic time-varying amplitude. This post provides some insights."
   ]
  },
  {
   "cell_type": "code",
   "execution_count": 6,
   "metadata": {},
   "outputs": [
    {
     "data": {
      "application/vnd.jupyter.widget-view+json": {
       "model_id": "553ffb997c344b18a7fda64136ac5d85",
       "version_major": 2,
       "version_minor": 0
      },
      "text/plain": [
       "interactive(children=(FloatSlider(value=1000.0, description='frequency1Hz', max=1500.0, min=1000.0), FloatSlid…"
      ]
     },
     "metadata": {},
     "output_type": "display_data"
    }
   ],
   "source": [
    "def soundOfSumOfSinusoids(frequency1Hz=1000.0, frequency2Hz=1001.0):\n",
    "    durationSeconds = 4\n",
    "    samplingRateHz = 44100 # audio CD quality sampling rate\n",
    "    t = np.linspace(0.0, durationSeconds, samplingRateHz * durationSeconds)\n",
    "    x1 = np.cos(2 * np.pi * frequency1Hz * t)\n",
    "    x2 = np.cos(2 * np.pi * frequency2Hz * t)\n",
    "    x = x1 + x2\n",
    "    display(Audio(data=x, rate=samplingRateHz))\n",
    "    return x\n",
    "\n",
    "v = interactive(soundOfSumOfSinusoids, frequency1Hz=(1000.0,1500.0), frequency2Hz=(1000.0,1500.0))\n",
    "display(v)"
   ]
  },
  {
   "cell_type": "markdown",
   "metadata": {},
   "source": [
    "## 2. Exponential Signals\n",
    "\n",
    "Exponential signals have the form\n",
    "\n",
    "\\begin{align*}\n",
    "    x(t) \\triangleq A e^{s t}\n",
    "\\end{align*}\n",
    "\n",
    "for all $t$, where, $A$ and $s$ are either a real or complex constants. If both of them are real-valued, then this leads to a real-valued exponential signal; otherwise, it leads to a complex-valued exponential signal. In practice, we will encounter more often _right-sided_ exponential signals:\n",
    "\n",
    "\\begin{align*}\n",
    "    x(t) \\triangleq A e^{s t} u(t)\n",
    "\\end{align*}\n",
    "\n",
    "where \n",
    "\n",
    "\\begin{align*}\n",
    "    u(t) \\triangleq \n",
    "    \\begin{cases}\n",
    "    0 & t < 0\n",
    "    \\\\\n",
    "    \\text{undefined} & t=0\n",
    "    \\\\\n",
    "    1 & t > 0\n",
    "    \\end{cases}\n",
    "\\end{align*}\n",
    "\n",
    "is the _unit step signal_ that jumps at $t=0$. This implies that right-sided exponential signals equal $0$ for $t<0$. In what follows, for pure convenience, we will only consider such right-sided signals."
   ]
  },
  {
   "cell_type": "markdown",
   "metadata": {},
   "source": [
    "### 2.1 Real(-valued) Exponential Signals\n",
    "\n",
    "We are now going to assume that $A \\in \\mathbb{R}$, $s = \\sigma \\in \\mathbb{R}$ and, therefore, \n",
    "\n",
    "\\begin{align*}\n",
    "    x(t) \\triangleq A e^{\\sigma t} u(t)\n",
    "\\end{align*}\n",
    "\n",
    "Note that $\\sigma$ is measured in inverse time units.\n",
    "\n",
    "For convenience, let's assume from this point that $A > 0$.\n",
    "\n",
    "It is not hard to see that \n",
    "- when $\\sigma < 0$, then the real exponential signal is monotonically decreasing from the value $x(0)=A$, which is the signal's maximum value. In the limit $t \\to +\\infty$, they converge to $0$.\n",
    "- when $\\sigma = 0$, then the real exponential signal maintains a constant value of $x(0)=A$ for $t>0$, i.e. it becomes a (scaled) step signal that jumps at $0$.\n",
    "- when $\\sigma > 0$, then the real exponential signal is monotonically increasing from the value $x(0)=A$, which is the signal's minimum value. In the limit $t \\to +\\infty$, they diverge to $+\\infty$.\n",
    "\n",
    "The two aforementioned extreme cases reverse, when $A < 0$."
   ]
  },
  {
   "cell_type": "code",
   "execution_count": 7,
   "metadata": {},
   "outputs": [
    {
     "data": {
      "application/vnd.jupyter.widget-view+json": {
       "model_id": "8a706f950f894aeabbe6151ca5165e51",
       "version_major": 2,
       "version_minor": 0
      },
      "text/plain": [
       "interactive(children=(FloatSlider(value=1.0, description='A', max=1.0, min=-1.0), FloatSlider(value=-5.0, desc…"
      ]
     },
     "metadata": {},
     "output_type": "display_data"
    }
   ],
   "source": [
    "def plotRealExponential(A=1.0, sigma=-5.0, showGrid=True):\n",
    "    t = np.linspace(-0.1, 1.0, 1000)\n",
    "    fig, ax = plt.subplots(1, 1, figsize=normalFigSize)\n",
    "    x = A * np.exp(sigma * t)\n",
    "    x[t<0] = 0.0 # apply multiplication by a step function at t=0 in order to make it right-sided.\n",
    "    ax.plot(t, x, lw=1.0, color='blue')\n",
    "    ax.set_xlim(-0.1, 1.0)\n",
    "    ax.set_ylim(-np.exp(1), np.exp(1))\n",
    "    ax.set_xlabel('$t$',fontsize=18)\n",
    "    ax.set_ylabel('$x(t)$', fontsize=18)\n",
    "    ax.grid(showGrid)\n",
    "    \n",
    "v = interactive(plotRealExponential, A=(-1.0,1.0), sigma=(-5.0,1.0))\n",
    "display(v)"
   ]
  },
  {
   "cell_type": "markdown",
   "metadata": {},
   "source": [
    "### 2.2 The Sound of an Exponential Signal\n",
    "\n",
    "Unlike sinusoids, simple exponential signals like the ones we are considering at this point produce no interesting sounds. Trying to sound them, when $\\sigma$ is very negative, produces a \"pop\" sound (like the sound speakers often make, when they are turned on) at their beginning ($t=0$), which is due to the abrupt signal value change from $0$ to $A$; in essence, one hears the step signal. The proof is in the pudding:\n"
   ]
  },
  {
   "cell_type": "code",
   "execution_count": 8,
   "metadata": {},
   "outputs": [
    {
     "data": {
      "application/vnd.jupyter.widget-view+json": {
       "model_id": "c34d0b39678443ffb79d5639168314bf",
       "version_major": 2,
       "version_minor": 0
      },
      "text/plain": [
       "interactive(children=(FloatSlider(value=-10.0, description='sigma', max=10.0, min=-10.0), Output()), _dom_clas…"
      ]
     },
     "metadata": {},
     "output_type": "display_data"
    }
   ],
   "source": [
    "def soundExponential(sigma=-10.0):\n",
    "    durationSeconds = 1\n",
    "    samplingRateHz = 44100 # audio CD quality sampling rate \n",
    "    t = np.linspace(-0.1, durationSeconds, samplingRateHz * durationSeconds)\n",
    "    x = np.exp(sigma * t)\n",
    "    x[t<0] = 0.0 # apply multiplication by a step function at t=0 in order to make it right-sided.\n",
    "    display(Audio(data=x, rate=samplingRateHz))\n",
    "    return x\n",
    "\n",
    "v = interactive(soundExponential, sigma=(-10.0,10.0))\n",
    "display(v)"
   ]
  },
  {
   "cell_type": "markdown",
   "metadata": {},
   "source": [
    "A couple more observations are:\n",
    "- A second \"pop\" sound may be heard, if $\\sigma$ is increased towards $0$. This is because of a second abrupt change at the end of the clip from some value to $0$. In reality, we are not listening to a right-sided exponential; rather, we are listening to the pulse $x(t) \\triangleq e^{\\sigma t}p(t; 0, T)$, where $T=1$ seconds is the duration of the clip (and, hence, pulse).\n",
    "- For the same reason, only a late \"pop\" may be heard, mostly when $\\sigma > 0$. In that case the first abrupt change (first \"pop\") will be imperceptible, due to the automatic gain control (volume adjustment) the sound hardware performs, which renders the second abrupt change much more pronounced than the first one.  \n",
    "\n",
    "Henceforth, if there is no sinusoidal factor (in general: no periodic component) present in a signal, we will not attempt to reproduce its sound; we now know how a \"pop\" sounds :-) "
   ]
  },
  {
   "cell_type": "markdown",
   "metadata": {},
   "source": [
    "# 3. Complex(-valued) Sinusoids\n",
    "\n",
    "Apart from a plain (real-valued) sinusoidal signal, there is the concept of a complex-valued sinusoid, whose general form is\n",
    "\n",
    "\\begin{align*}\n",
    "    x(t) = A e^{j \\omega t}\n",
    "\\end{align*}\n",
    "\n",
    "where the $A \\in \\mathbb{C}$ is referred to as the signal's _complex amplitude_ and $\\omega \\in \\mathbb{R}$ is called its _angular frequency_, since it plays the same role for this signal as it plays for a plain (real-valued) sinusoid. If $A$'s polar form is given as $A = |A| e^{j \\angle A}$, then we can re-express a complex sinusoid as\n",
    "\n",
    "\\begin{align*}\n",
    "    x(t) \\triangleq A e^{j \\omega t} = |A| e^{j (\\omega t + \\angle A)} \\quad \\Rightarrow \\quad\n",
    "    \\begin{cases}\n",
    "        \\mathrm{Re}\\!\\left\\{ x(t) \\right\\} = |A| \\cos(\\omega t + \\angle A)\n",
    "        \\\\\n",
    "        \\mathrm{Im}\\!\\left\\{ x(t) \\right\\} = |A| \\sin(\\omega t + \\angle A)  = |A| \\cos\\left(\\omega t + \\angle A - \\frac{\\pi}{2} \\right)\n",
    "    \\end{cases}\n",
    "\\end{align*}\n",
    "\n",
    "Without going into the details, by using trigonometry, we can always manipulate a complex sinusoid, so that $\\angle A \\in (-\\pi, \\pi]$ and $\\omega \\geq 0$. \n",
    "\n",
    "What we just saw is that the real and imaginary parts of a complex-valued sinusoid are real-valued sinusoids of the same amplitude (magnitude, to be more precise) and frequency, but differ in phase by 90 degrees; one can argue that the real part lags the imaginary part by 90 degrees.\n",
    "\n",
    "Below, the real and imaginary parts of a complex sinusoid are depicted in blue and red respectively."
   ]
  },
  {
   "cell_type": "code",
   "execution_count": 9,
   "metadata": {},
   "outputs": [
    {
     "data": {
      "application/vnd.jupyter.widget-view+json": {
       "model_id": "a318303e3e7e4891b976c9b82babf806",
       "version_major": 2,
       "version_minor": 0
      },
      "text/plain": [
       "interactive(children=(FloatSlider(value=1.0, description='magnitudeA', max=1.0), FloatSlider(value=1.0, descri…"
      ]
     },
     "metadata": {},
     "output_type": "display_data"
    }
   ],
   "source": [
    "def plotRealImaginaryPartsComplexSinusoid(magnitudeA=1.0, frequency=1.0, phaseA=0.0, showGrid=True):\n",
    "    fig, ax = plt.subplots(1, 1, figsize=normalFigSize)\n",
    "    \n",
    "    omega = 2.0 * np.pi * frequency\n",
    "    \n",
    "    t = np.linspace(-1.0, 1.0, 1000)\n",
    "    trigArg = omega * t + phaseA\n",
    "    Rex = magnitudeA * np.cos(trigArg)\n",
    "    Imx = magnitudeA * np.sin(trigArg)\n",
    "\n",
    "    ax.plot(t, Rex, lw=1.0, color='blue')\n",
    "    ax.plot(t, Imx, lw=1.0, color='red')\n",
    "    ax.set_xlim(-1.0, 1.0)\n",
    "    ax.set_ylim(-1.0, 1.0)\n",
    "    ax.set_xlabel('$t$',fontsize=18)\n",
    "    ax.set_ylabel('Re{$x(t)$}, Im{$x(t)$}', fontsize=18)\n",
    "    ax.grid(showGrid)\n",
    "    \n",
    "v = interactive(plotRealImaginaryPartsComplexSinusoid, magnitudeA=(0.0,1.0), period=(0.5,10.0), phaseA=(-np.pi, np.pi))\n",
    "display(v)"
   ]
  },
  {
   "cell_type": "markdown",
   "metadata": {},
   "source": [
    "In order to be able to visualize a complex sinusoid, we need to employ a 3D plot to represent it as a parametric curve $\\left( t, \\mathrm{Re}\\!\\left\\{ x(t) \\right\\}, \\mathrm{Im}\\!\\left\\{ x(t) \\right\\}\\right)$. It turns out that the resulting curve is a _helix_ along the time axis.\n",
    "\n",
    "Thing(s) you may want to look at:\n",
    "- [Helix (@ Wikipedia)](https://en.wikipedia.org/wiki/Helix)"
   ]
  },
  {
   "cell_type": "code",
   "execution_count": 10,
   "metadata": {},
   "outputs": [
    {
     "data": {
      "application/vnd.jupyter.widget-view+json": {
       "model_id": "03b7b9694b034861a275c73d2b1ca14e",
       "version_major": 2,
       "version_minor": 0
      },
      "text/plain": [
       "interactive(children=(FloatSlider(value=1.0, description='magnitudeA', max=1.0), FloatSlider(value=0.0, descri…"
      ]
     },
     "metadata": {},
     "output_type": "display_data"
    }
   ],
   "source": [
    "from mpl_toolkits import mplot3d\n",
    "\n",
    "def plotComplexSinusoid(magnitudeA=1.0, phaseA=0.0, frequency=2.0, showRealPart=False, showImaginaryPart=False):\n",
    "    fig, _ = plt.subplots(1, 1, figsize=largeFigSize)\n",
    "    ax = plt.axes(projection=\"3d\")\n",
    "\n",
    "    omega = 2 * np.pi * frequency\n",
    "\n",
    "    t = np.linspace(-1.0, 1.0, 1000)\n",
    "    trigArg = omega * t + phaseA\n",
    "    dummy = np.ones_like(t)\n",
    "\n",
    "    # plot complex-valued sinusoid\n",
    "    Rex = magnitudeA * np.cos(trigArg)\n",
    "    Imx = magnitudeA * np.sin(trigArg)\n",
    "    ax.plot3D(t, Rex, Imx, 'blue')\n",
    "    \n",
    "    # plot its real part\n",
    "    if showRealPart:\n",
    "        ax.plot3D(t, Rex, -dummy, 'red')\n",
    "    \n",
    "    # plot its imaginary part\n",
    "    if showImaginaryPart:\n",
    "        ax.plot3D(t, dummy, Imx, 'green')\n",
    "\n",
    "    ax.set_xlim(-1.0, 1.0)\n",
    "    ax.set_ylim(-1.0, 1.0)\n",
    "    ax.set_zlim(-1.0, 1.0)\n",
    "\n",
    "    ax.set_xlabel('$t$',fontsize=18)\n",
    "    ax.set_ylabel('Re{$x(t)$}', fontsize=18)\n",
    "    ax.set_zlabel('Im{$x(t)$}', fontsize=18)    \n",
    "\n",
    "v = interactive(plotComplexSinusoid, magnitudeA=(0.0,1.0), phaseA=(-np.pi,np.pi), frequency=(0.0,5.0))\n",
    "display(v)"
   ]
  },
  {
   "cell_type": "markdown",
   "metadata": {},
   "source": [
    "We notice that the helix is of radius $|A|$ and, therefore, the entire complex-valued sinusoid fits in a cylinder of radius $|A|$, whose axis is the time axis."
   ]
  },
  {
   "cell_type": "markdown",
   "metadata": {},
   "source": [
    "### 3.1 The Sound of a Complex Sinusoid?\n",
    "\n",
    "It turns out that there's nothing much we can do to \"hear\" (represent as a sound) a complex exponential. For example, in a futile attempt below, the real and imaginary parts of a complex sinusoid are used as left and right channels respectively of a stereophonic audible signal. Even with quality headphones, one hears the same tone, whether ones chooses the stereophonic or monophonic (for which both channels play $\\mathrm{Re}\\!\\left\\{ x(t) \\right\\}$) options. "
   ]
  },
  {
   "cell_type": "code",
   "execution_count": 11,
   "metadata": {},
   "outputs": [
    {
     "data": {
      "application/vnd.jupyter.widget-view+json": {
       "model_id": "2236964c4d434d449cf8e955fcaa4160",
       "version_major": 2,
       "version_minor": 0
      },
      "text/plain": [
       "interactive(children=(FloatSlider(value=3000.0, description='frequencyHz', max=5000.0, min=1000.0), Checkbox(v…"
      ]
     },
     "metadata": {},
     "output_type": "display_data"
    }
   ],
   "source": [
    "def soundComplexSinusoidInStereo(frequencyHz=3000.0, playInStereo=False):\n",
    "    durationSeconds = 3\n",
    "    samplingRateHz = 44100 # audio CD quality sampling rate \n",
    "    t = np.linspace(0.0, durationSeconds, samplingRateHz * durationSeconds)\n",
    "    \n",
    "    omega = 2 * np.pi * frequencyHz\n",
    "    trigArg = omega * t\n",
    "\n",
    "    Rex = np.cos(trigArg)\n",
    "    Imx = np.sin(trigArg)\n",
    "    if playInStereo:\n",
    "        x = np.vstack((Rex, Imx)) # left (right) channel plays Rex (Imx) \n",
    "    else:\n",
    "        x = np.vstack((Rex, Rex)) # both channels play same signal, i.e. Rex\n",
    "    display(Audio(data=x, rate=samplingRateHz))\n",
    "    return x\n",
    "\n",
    "v = interactive(soundComplexSinusoidInStereo, frequencyHz=(1000.0,5000.0))\n",
    "display(v)"
   ]
  },
  {
   "cell_type": "markdown",
   "metadata": {},
   "source": [
    "## 4. Real(-valued) Modulated Exponential Signals\n",
    "\n",
    "When a singal is multiplied by a sinusoid (whether real or, sometimes, complex), we say that the signal is _modulated_. A right-sided, real-valued modulated exponential signal takes the general form\n",
    "\n",
    "\\begin{align*}\n",
    "    x(t) \\triangleq A e^{\\sigma t} \\cos(\\omega t + \\phi) u(t)\n",
    "\\end{align*}\n",
    "\n",
    "where $A$, $\\sigma$, $\\omega$ and $\\phi$ are real constants. As usual, after some trigonometry, we can ensure that always $A, \\omega \\geq 0$ and $\\phi \\in (-\\pi, \\pi]$. \n",
    "\n",
    "We call the factor $|A| e^{\\sigma t}$ _envelope_ of $x$ and it can be thought of as a time-varying magnitude of the modulating sinusoid. This is because $|x(t)| \\leq |A| e^{\\sigma t}$ for all $t$."
   ]
  },
  {
   "cell_type": "code",
   "execution_count": 12,
   "metadata": {},
   "outputs": [
    {
     "data": {
      "application/vnd.jupyter.widget-view+json": {
       "model_id": "487101a01b15454084fd639d2ea59d2c",
       "version_major": 2,
       "version_minor": 0
      },
      "text/plain": [
       "interactive(children=(FloatSlider(value=1.0, description='A', max=1.0, min=-1.0), FloatSlider(value=-5.0, desc…"
      ]
     },
     "metadata": {},
     "output_type": "display_data"
    }
   ],
   "source": [
    "def plotRealModulatedExponential(A=1.0, sigma=-5.0, frequency=3.0, phaseShift=0.0 , showEnvelope=True, showGrid=True):\n",
    "    fig, ax = plt.subplots(1, 1, figsize=normalFigSize)\n",
    "\n",
    "    omega = 2 * np.pi * frequency\n",
    "    \n",
    "    t = np.linspace(-0.1, 1.0, 1000)\n",
    "    envelopeTemp = A * np.exp(sigma * t)\n",
    "    \n",
    "    # plot real modulated exponential\n",
    "    trigArg = omega * t + phaseShift\n",
    "    x = envelopeTemp * np.cos(trigArg) \n",
    "    x[t<0] = 0.0 # apply multiplication by a step function at t=0 in order to make it right-sided.\n",
    "    ax.plot(t, x, lw=1.0, color='blue')\n",
    "    \n",
    "    if showEnvelope:\n",
    "        # plot the signal's envelope\n",
    "        envelope = np.abs(envelopeTemp)\n",
    "        ax.plot(t, -envelope, lw=1.0, color='gray')\n",
    "        ax.plot(t, envelope, lw=1.0, color='gray')    \n",
    "    \n",
    "    ax.set_xlim(-0.1, 1.0)\n",
    "    ax.set_ylim(-np.exp(1), np.exp(1))\n",
    "    ax.set_xlabel('$t$',fontsize=18)\n",
    "    ax.set_ylabel('$x(t)$', fontsize=18)\n",
    "    ax.grid(showGrid)\n",
    "    \n",
    "v = interactive(plotRealModulatedExponential, A=(-1.0,1.0), sigma=(-5.0,1.0), frequency=(0.0,5.0), phaseShift=(-np.pi, np.pi))\n",
    "display(v)"
   ]
  },
  {
   "cell_type": "markdown",
   "metadata": {},
   "source": [
    "It should be apparent that,\n",
    "- if $\\sigma < 0$, then the signal converges to $0$ as time goes by; the more negative $\\sigma$ is, the faster it reaches $0$.\n",
    "- if $\\sigma = 0$, then the signal amounts to a right-sided sinusoid, since the envelope is constant.\n",
    "- if $\\sigma > 0$, then the the signal diverges as time goes by; the more positive $\\sigma$ is, the faster it diverges.\n",
    "\n",
    "\n",
    "Now, let's see how such signals sound."
   ]
  },
  {
   "cell_type": "code",
   "execution_count": 13,
   "metadata": {},
   "outputs": [
    {
     "data": {
      "application/vnd.jupyter.widget-view+json": {
       "model_id": "7b4b2b2dac294fc985f867971e523a47",
       "version_major": 2,
       "version_minor": 0
      },
      "text/plain": [
       "interactive(children=(IntSlider(value=0, description='sigma', max=10, min=-10), FloatSlider(value=3000.0, desc…"
      ]
     },
     "metadata": {},
     "output_type": "display_data"
    }
   ],
   "source": [
    "def soundRealModulatedExponential(sigma=0.0, frequencyHz=3000.0):\n",
    "    durationSeconds = 3\n",
    "    samplingRateHz = 44100 # audio CD quality sampling rate \n",
    "    t = np.linspace(-0.1, durationSeconds, samplingRateHz * durationSeconds)\n",
    "    \n",
    "    omega = 2 * np.pi * frequencyHz\n",
    "    trigArg = omega * t\n",
    "    x = np.exp(sigma * t) * np.cos(trigArg)\n",
    "\n",
    "    display(Audio(data=x, rate=samplingRateHz))\n",
    "    return x\n",
    "\n",
    "v = interactive(soundRealModulatedExponential, sigma=(-10,10), frequencyHz=(1000.0,5000.0))\n",
    "display(v)"
   ]
  },
  {
   "cell_type": "markdown",
   "metadata": {},
   "source": [
    "Above, \n",
    "- if $\\sigma < 0$, then the tone fades out as time goes by; the more negative $\\sigma$ is, the faster the tone fades out.\n",
    "- if $\\sigma = 0$, then we hear a constant tone, since the envelope is constant.\n",
    "- if $\\sigma > 0$, then the tone fades in; the more positive $\\sigma$ is, the faster the tone fades in.\n",
    "\n",
    "In general, we perceive the envelope as a time-varying \"volume\" (loudness) of the modulating tone."
   ]
  },
  {
   "cell_type": "markdown",
   "metadata": {},
   "source": [
    "## 5. Complex(-valued) Exponential Signals\n",
    "\n",
    "The most general case of exponential signals is the one, when they are complex-valued. If $A \\in \\mathbb{C}$ (sometimes referred to as _complex amplitude_ of the signal) with polar form $A = |A| e^{j \\angle A}$, $s \\in \\mathbb{C}$ (sometimes referred to as _complex frequency_ of the signal) with Cartesian form $s = \\sigma + j \\omega$ and, at least, $\\omega \\neq 0$ or $\\phi \\neq 0, \\pm \\pi$ to ensure that they are indeed complex-valued, then such signals take the right-sided form of \n",
    "\n",
    "\\begin{align*}\n",
    "    x(t) \\triangleq A e^{s t} u(t) = |A| e^{\\sigma t} e^{j (\\omega t + \\angle A)}  u(t) \\quad \\Rightarrow \\quad\n",
    "    \\begin{cases}\n",
    "        \\mathrm{Re}\\!\\left\\{ x(t) \\right\\} = |A| e^{\\sigma t} \\cos(\\omega t + \\angle A) u(t)\n",
    "        \\\\\n",
    "        \\mathrm{Im}\\!\\left\\{ x(t) \\right\\} = |A| e^{\\sigma t} \\sin(\\omega t + \\angle A) u(t)\n",
    "    \\end{cases}\n",
    "\\end{align*}\n",
    "\n",
    "The quantity $|A| e^{\\sigma t}$ is called its _envelope_. We see that such a complex exponential signal is, in essence, a real-valued exponential signal (the envelope) that is modulated by a complex-valued sinusoid $e^{j (\\omega t + \\angle A)}$. Additionally, the real and imaginary part of such a signal are an exponential signal (again, the envelope) modulated by two sinusoids that are 90 degrees out of phase.\n",
    "\n",
    "It is important to note that the family of complex exponentials subsumes the complex sinusoidal and real exponential signals as special cases:\n",
    "- when $\\sigma = 0$, we get the complex-valued sinusoidal family\n",
    "- when $\\omega = 0$ and $\\angle A = 0$ or $\\pi$ (i.e., when $A$ is real), we get the real exponential family.\n",
    "\n",
    "The resulting parameteric curve $(t, \\mathrm{Re}\\!\\left\\{ x(t) \\right\\}, \\mathrm{Im}\\!\\left\\{ x(t) \\right\\})$ of a complex exponential is a wounding-in (converging to $0$) or winding-out (diverging) helix depending on whether $\\sigma$ is negative or positive."
   ]
  },
  {
   "cell_type": "code",
   "execution_count": 14,
   "metadata": {},
   "outputs": [
    {
     "data": {
      "application/vnd.jupyter.widget-view+json": {
       "model_id": "086807d7987e4da4a7bd1924fd263730",
       "version_major": 2,
       "version_minor": 0
      },
      "text/plain": [
       "interactive(children=(FloatSlider(value=1.0, description='magnitudeA', max=1.0), FloatSlider(value=0.0, descri…"
      ]
     },
     "metadata": {},
     "output_type": "display_data"
    }
   ],
   "source": [
    "def plotComplexExponential(magnitudeA=1.0, phaseA=0.0, frequency=5.0, sigma=-1.0, showRealPart=False, \n",
    "                           showImaginaryPart=False, showEnvelopes=False):\n",
    "    fig, _ = plt.subplots(1, 1, figsize=largeFigSize)\n",
    "    ax = plt.axes(projection=\"3d\")\n",
    "\n",
    "    omega = 2 * np.pi * frequency\n",
    "\n",
    "    t = np.linspace(-0.1, 1.0, 1000)\n",
    "    trigArg = omega * t + phaseA\n",
    "    exponential = np.exp(sigma * t) \n",
    "    dummy = np.exp(1) * np.ones_like(t)\n",
    "\n",
    "    # plot complex-valued exponential\n",
    "    Rex = magnitudeA * np.cos(trigArg) * exponential\n",
    "    Rex[t<0] = 0.0 # apply multiplication by a step function at t=0 in order to make it right-sided.\n",
    "    Imx = magnitudeA * np.sin(trigArg) * exponential\n",
    "    Imx[t<0] = 0.0 # apply multiplication by a step function at t=0 in order to make it right-sided.\n",
    "    ax.plot3D(t, Rex, Imx, 'blue')\n",
    "    \n",
    "    if showRealPart:\n",
    "        # plot its real part\n",
    "        ax.plot3D(t, Rex, -dummy, 'red')\n",
    "    \n",
    "    if showImaginaryPart:\n",
    "        # plot its imaginary part\n",
    "        ax.plot3D(t, dummy, Imx, 'green')\n",
    "        \n",
    "    if showEnvelopes:\n",
    "        # plot envelopes of real & imaginary parts\n",
    "        envelope = magnitudeA * exponential\n",
    "        ax.plot3D(t, envelope, -dummy, 'gray')\n",
    "        ax.plot3D(t, -envelope, -dummy, 'gray')\n",
    "        ax.plot3D(t, dummy, envelope, 'gray')\n",
    "        ax.plot3D(t, dummy, -envelope, 'gray')\n",
    "\n",
    "    ax.set_xlim(-0.1, 1.0)\n",
    "    ax.set_ylim(-np.exp(1), np.exp(1))\n",
    "    ax.set_zlim(-np.exp(1), np.exp(1))\n",
    "\n",
    "    ax.set_xlabel('$t$',fontsize=18)\n",
    "    ax.set_ylabel('Re{$x(t)$}', fontsize=18)\n",
    "    ax.set_zlabel('Im{$x(t)$}', fontsize=18)    \n",
    "\n",
    "v = interactive(plotComplexExponential, magnitudeA=(0.0,1.0), phaseA=(-np.pi,np.pi), frequency=(0.0,5.0), sigma=(-5.0,1.0))\n",
    "display(v)"
   ]
  },
  {
   "cell_type": "markdown",
   "metadata": {},
   "source": [
    "## 6. Products of Real Exponential Signals with Polynomials\n",
    "\n",
    "Another frequently encountered class of real-valued signals is the one where an exponential signal is multiplied by some polynomial. The right-sided variety of these signals takes the form\n",
    "\n",
    "\\begin{align*}\n",
    "    x(t) \\triangleq A q(t) e^{\\sigma t} u(t) \n",
    "\\end{align*}\n",
    "\n",
    "where,  \n",
    "\n",
    "\\begin{align*}\n",
    "    q(t) \\triangleq \\sum_{d=0}^D a_d t^d \n",
    "\\end{align*}\n",
    "\n",
    "is some $D$-th degree polynomial of $t$ with real constant coefficients $\\left\\{ a_d \\right\\}_{d=0}^D$. As usual, $A$ and $\\sigma$ are real constants. Without loss of generality, we can assume that $q$ is monic (i.e., $a_D=1$).\n",
    "\n",
    "It is straightforward to verify that\n",
    "- if $\\sigma \\geq 0$, $x$ diverges as $t$ grows.\n",
    "- if $\\sigma < 0$, $\\lim_\\limits{t \\to +\\infty} x(t) = 0$, as can be verified by De L'Hospital's rule. Close to $t=0$, $|q(t)|$ rises quicker than the decaying exponential factor. Eventually, though, that latter factor overpowers the polynomial and the signal dies out. Due to this phenomenon, there will be one or more local maxima in between. Hence, such signals are bounded.\n",
    "\n",
    "Below we graph such a signal, when $q(t) \\triangleq t^2 + a_1 t + a_o$."
   ]
  },
  {
   "cell_type": "code",
   "execution_count": 15,
   "metadata": {},
   "outputs": [
    {
     "data": {
      "application/vnd.jupyter.widget-view+json": {
       "model_id": "2c9ea63fa45f48acac2ac20478b300e1",
       "version_major": 2,
       "version_minor": 0
      },
      "text/plain": [
       "interactive(children=(FloatSlider(value=1.0, description='A', max=1.0, min=-1.0), FloatSlider(value=-5.0, desc…"
      ]
     },
     "metadata": {},
     "output_type": "display_data"
    }
   ],
   "source": [
    "def plotPolynomialRealExponential(A=1.0, sigma=-5.0, a1=0.0, a0=0.0, showGrid=True):\n",
    "    fig, ax = plt.subplots(1, 1, figsize=normalFigSize)\n",
    "\n",
    "    t = np.linspace(-0.1, 2.0, 1000)\n",
    "    exponential = A * np.exp(sigma * t)\n",
    "    polynomial = t**2 + a1 * t + a0\n",
    "    \n",
    "    # plot real exponential times polynomial\n",
    "    x = polynomial * exponential\n",
    "    x[t<0] = 0.0 # apply multiplication by a step function at t=0 in order to make it right-sided.\n",
    "    ax.plot(t, x, lw=1.0, color='blue')\n",
    "        \n",
    "    ax.set_xlim(-0.1, 2.0)\n",
    "    ax.set_xlabel('$t$',fontsize=18)\n",
    "    ax.set_ylabel('$x(t)$', fontsize=18)\n",
    "    ax.grid(showGrid)\n",
    "    \n",
    "v = interactive(plotPolynomialRealExponential, A=(-1.0,1.0), sigma=(-5.0,1.0), a1=(-5.0,5.0), a0=(-5.0,5.0))\n",
    "display(v)"
   ]
  },
  {
   "cell_type": "markdown",
   "metadata": {},
   "source": [
    "## 7. Products of Complex Exponentials Signals with Polynomials\n",
    "\n",
    "The previous case can be generalized to complex exponentials. The right-sided form of this family looks like this:\n",
    "\n",
    "\\begin{align*}\n",
    "    x(t) \\triangleq A q(t) e^{s t} u(t) = |A| |q(t)| e^{\\sigma t} e^{j (\\omega t + \\angle A + \\angle q(t))}  u(t) \\quad \\Rightarrow \\quad\n",
    "    \\begin{cases}\n",
    "        \\mathrm{Re}\\!\\left\\{ x(t) \\right\\} = |A| |q(t)| e^{\\sigma t} \\cos(\\omega t + \\angle A + \\angle q(t)) u(t)\n",
    "        \\\\\n",
    "        \\mathrm{Im}\\!\\left\\{ x(t) \\right\\} = |A| |q(t)| e^{\\sigma t} \\sin(\\omega t + \\angle A + \\angle q(t)) u(t)\n",
    "    \\end{cases}\n",
    "\\end{align*}\n",
    "\n",
    "where, since $q(t)$ is real-valued, $\\angle q(t) = 0$, if $q(t) > 0$, and $\\angle q(t) = \\pi$, if $q(t) < 0$, for some $t$ ($\\angle q(t)$ is arbitrary, when $q(t) = 0$ for some $t$). This implies that, when $q(t)$ changes signs, the signal's complex sinusoid undergoes a phase shift of $\\pi$ radians.\n",
    "\n",
    "Hence, $A q(t)$, where $A \\in \\mathbb{C}$, plays the role of a time-varying complex envelope for the signal's complex sinusoid. On the other hand, $|A| |q(t)|$ plays the role of the (real-valued) envelope for the signal's sinusoids appearing in its real and imaginary parts. \n",
    "\n",
    "From the above form and the discussions we had so far, we see that\n",
    "- if $\\sigma \\geq 0$, then the signal diverges as $t \\to +\\infty$.\n",
    "- if $\\sigma < 0$, then the signal eventually dies down as time progresses. \n",
    "\n",
    "Below we graph such a signal, when $q(t) \\triangleq t$. We only consider $\\sigma<0$, since the other case is rather uninteresting (the signal diverges; it spirals out of control from the very beggining)."
   ]
  },
  {
   "cell_type": "code",
   "execution_count": 16,
   "metadata": {},
   "outputs": [
    {
     "data": {
      "application/vnd.jupyter.widget-view+json": {
       "model_id": "fa139606423e47979eeca123a8876be6",
       "version_major": 2,
       "version_minor": 0
      },
      "text/plain": [
       "interactive(children=(FloatSlider(value=10.0, description='magnitudeA', max=10.0), FloatSlider(value=0.0, desc…"
      ]
     },
     "metadata": {},
     "output_type": "display_data"
    }
   ],
   "source": [
    "def plotPolynomialComplexExponential(magnitudeA=10.0, phaseA=0.0, frequency=20.0, sigma=-5.0, showRealPart=False, \n",
    "                           showImaginaryPart=False, showEnvelopes=False):\n",
    "    fig, _ = plt.subplots(1, 1, figsize=largeFigSize)\n",
    "    ax = plt.axes(projection=\"3d\")\n",
    "\n",
    "    omega = 2 * np.pi * frequency\n",
    "\n",
    "    t = np.linspace(-0.1, 1.0, 1000)\n",
    "    trigArg = omega * t + phaseA\n",
    "    exponential = np.exp(sigma * t)\n",
    "    polynomial = t\n",
    "    dummy = np.exp(1) * np.ones_like(t)\n",
    "\n",
    "    # plot complex-valued exponential\n",
    "    Rex = magnitudeA * np.cos(trigArg) * exponential * polynomial\n",
    "    Rex[t<0] = 0.0 # apply multiplication by a step function at t=0 in order to make it right-sided.\n",
    "    Imx = magnitudeA * np.sin(trigArg) * exponential * polynomial\n",
    "    Imx[t<0] = 0.0 # apply multiplication by a step function at t=0 in order to make it right-sided.\n",
    "    ax.plot3D(t, Rex, Imx, 'blue')\n",
    "    \n",
    "    if showRealPart:\n",
    "        # plot its real part\n",
    "        ax.plot3D(t, Rex, -dummy, 'red')\n",
    "    \n",
    "    if showImaginaryPart:\n",
    "        # plot its imaginary part\n",
    "        ax.plot3D(t, dummy, Imx, 'green')\n",
    "        \n",
    "    if showEnvelopes:\n",
    "        # plot envelopes of real & imaginary parts\n",
    "        envelope = magnitudeA * exponential * np.abs(polynomial)\n",
    "        ax.plot3D(t, envelope, -dummy, 'gray')\n",
    "        ax.plot3D(t, -envelope, -dummy, 'gray')\n",
    "        ax.plot3D(t, dummy, envelope, 'gray')\n",
    "        ax.plot3D(t, dummy, -envelope, 'gray')\n",
    "\n",
    "    ax.set_xlim(-0.1, 1.0)\n",
    "    ax.set_ylim(-np.exp(1), np.exp(1))\n",
    "    ax.set_zlim(-np.exp(1), np.exp(1))\n",
    "\n",
    "    ax.set_xlabel('$t$',fontsize=18)\n",
    "    ax.set_ylabel('Re{$x(t)$}', fontsize=18)\n",
    "    ax.set_zlabel('Im{$x(t)$}', fontsize=18)    \n",
    "\n",
    "v = interactive(plotPolynomialComplexExponential, magnitudeA=(0.0,10.0), phaseA=(-np.pi,np.pi), \n",
    "                frequency=(10.0,20.0), sigma=(-5.0,-2.0))\n",
    "display(v)"
   ]
  },
  {
   "cell_type": "markdown",
   "metadata": {},
   "source": [
    "Let's take a listen to, say, the real part of the previous signal. We'll add an option for stereophonic playback of both real and imaginary parts just for the heck of it (in reality, we won't be able to \"hear\" both parts simultaneously). "
   ]
  },
  {
   "cell_type": "code",
   "execution_count": 17,
   "metadata": {},
   "outputs": [
    {
     "data": {
      "application/vnd.jupyter.widget-view+json": {
       "model_id": "adcdd69ad25d4bc28459c7baad0f4d78",
       "version_major": 2,
       "version_minor": 0
      },
      "text/plain": [
       "interactive(children=(FloatSlider(value=-5.0, description='sigma', max=-3.0, min=-5.0), FloatSlider(value=3000…"
      ]
     },
     "metadata": {},
     "output_type": "display_data"
    }
   ],
   "source": [
    "def soundComplexSinusoidInStereo(sigma=-5.0, frequencyHz=3000.0, playInStereo=False):\n",
    "    durationSeconds = 3\n",
    "    samplingRateHz = 44100 # audio CD quality sampling rate \n",
    "    t = np.linspace(0.0, durationSeconds, samplingRateHz * durationSeconds)\n",
    "    \n",
    "    omega = 2 * np.pi * frequencyHz\n",
    "    trigArg = omega * t\n",
    "    exponential = np.exp(sigma * t)\n",
    "    polynomial = t\n",
    "\n",
    "    Rex = polynomial * exponential * np.cos(trigArg)\n",
    "    Imx = polynomial * exponential * np.sin(trigArg)\n",
    "    if playInStereo:\n",
    "        x = np.vstack((Rex, Imx)) # left (right) channel plays Rex (Imx) \n",
    "    else:\n",
    "        x = np.vstack((Rex, Rex)) # both channels play same signal, i.e. Rex\n",
    "    display(Audio(data=x, rate=samplingRateHz))\n",
    "    return x\n",
    "\n",
    "v = interactive(soundComplexSinusoidInStereo, sigma=(-5.0,-3.0), frequencyHz=(1000.0,5000.0))\n",
    "display(v)"
   ]
  },
  {
   "cell_type": "markdown",
   "metadata": {},
   "source": [
    "Predictably, we hear a pure tone, whose loudness increases quickly and then slowly fades away; it follows the characteristics of the signal's envelope. How quickly this transition happens depends on how negative $\\sigma$ is; the smaller the sigma, the faster this transition takes place."
   ]
  }
 ],
 "metadata": {
  "kernelspec": {
   "display_name": "Python 3",
   "language": "python",
   "name": "python3"
  },
  "language_info": {
   "codemirror_mode": {
    "name": "ipython",
    "version": 3
   },
   "file_extension": ".py",
   "mimetype": "text/x-python",
   "name": "python",
   "nbconvert_exporter": "python",
   "pygments_lexer": "ipython3",
   "version": "3.7.3"
  }
 },
 "nbformat": 4,
 "nbformat_minor": 2
}
